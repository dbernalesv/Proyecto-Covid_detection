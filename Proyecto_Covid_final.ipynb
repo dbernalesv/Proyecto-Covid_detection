{
  "nbformat": 4,
  "nbformat_minor": 0,
  "metadata": {
    "colab": {
      "name": "Proyecto Covid_final.ipynb",
      "provenance": [],
      "collapsed_sections": []
    },
    "kernelspec": {
      "name": "python3",
      "display_name": "Python 3"
    },
    "language_info": {
      "name": "python"
    }
  },
  "cells": [
    {
      "cell_type": "code",
      "metadata": {
        "id": "3gHfbTNTWw16"
      },
      "source": [
        "import numpy as np\n",
        "import seaborn as sns\n",
        "import matplotlib.pyplot as plt\n",
        "sns.set(color_codes=True)\n",
        "import pandas as pd"
      ],
      "execution_count": null,
      "outputs": []
    },
    {
      "cell_type": "markdown",
      "source": [
        "Link de la fuente: https://github.com/nshomron/covidpred"
      ],
      "metadata": {
        "id": "3GTCKNxfP31T"
      }
    },
    {
      "cell_type": "code",
      "metadata": {
        "colab": {
          "base_uri": "https://localhost:8080/"
        },
        "id": "rUFV912qXbPE",
        "outputId": "0b89f3f8-3129-4959-eb7e-4ee7e79d9e4d"
      },
      "source": [
        "from google.colab import drive  ## importar\n",
        "drive.mount('/content/drive')"
      ],
      "execution_count": null,
      "outputs": [
        {
          "output_type": "stream",
          "name": "stdout",
          "text": [
            "Mounted at /content/drive\n"
          ]
        }
      ]
    },
    {
      "cell_type": "code",
      "metadata": {
        "colab": {
          "base_uri": "https://localhost:8080/"
        },
        "id": "VI8rnqFoXbt4",
        "outputId": "736a0a59-c7a7-410c-d9a9-bafab34710a3"
      },
      "source": [
        "covid=pd.read_csv('/content/drive/MyDrive/corona_tested_individuals_ver_0083.english.csv')"
      ],
      "execution_count": null,
      "outputs": [
        {
          "output_type": "stream",
          "name": "stderr",
          "text": [
            "/usr/local/lib/python3.7/dist-packages/IPython/core/interactiveshell.py:2882: DtypeWarning: Columns (7) have mixed types.Specify dtype option on import or set low_memory=False.\n",
            "  exec(code_obj, self.user_global_ns, self.user_ns)\n"
          ]
        }
      ]
    },
    {
      "cell_type": "markdown",
      "metadata": {
        "id": "KKnvFKolsTQy"
      },
      "source": [
        "# **ANÁLISIS DESCRIPTIVO**"
      ]
    },
    {
      "cell_type": "code",
      "metadata": {
        "colab": {
          "base_uri": "https://localhost:8080/"
        },
        "id": "VZ_dJsIvXp1X",
        "outputId": "f4db0564-c7d0-4764-a1d7-2cae612e0344"
      },
      "source": [
        "covid.isnull().sum()"
      ],
      "execution_count": null,
      "outputs": [
        {
          "output_type": "execute_result",
          "data": {
            "text/plain": [
              "test_date                   0\n",
              "cough                       0\n",
              "fever                       0\n",
              "sore_throat                 0\n",
              "shortness_of_breath         0\n",
              "head_ache                   0\n",
              "corona_result               0\n",
              "age_60_and_above       547644\n",
              "gender                  92886\n",
              "test_indication             0\n",
              "dtype: int64"
            ]
          },
          "metadata": {},
          "execution_count": 4
        }
      ]
    },
    {
      "cell_type": "code",
      "metadata": {
        "colab": {
          "base_uri": "https://localhost:8080/"
        },
        "id": "ynF8wZzMrv-z",
        "outputId": "a962cfb9-e89a-45ca-d44e-8227fb7692b6"
      },
      "source": [
        "covid.info()"
      ],
      "execution_count": null,
      "outputs": [
        {
          "output_type": "stream",
          "name": "stdout",
          "text": [
            "<class 'pandas.core.frame.DataFrame'>\n",
            "RangeIndex: 2742596 entries, 0 to 2742595\n",
            "Data columns (total 10 columns):\n",
            " #   Column               Dtype \n",
            "---  ------               ----- \n",
            " 0   test_date            object\n",
            " 1   cough                int64 \n",
            " 2   fever                int64 \n",
            " 3   sore_throat          int64 \n",
            " 4   shortness_of_breath  int64 \n",
            " 5   head_ache            int64 \n",
            " 6   corona_result        object\n",
            " 7   age_60_and_above     object\n",
            " 8   gender               object\n",
            " 9   test_indication      object\n",
            "dtypes: int64(5), object(5)\n",
            "memory usage: 209.2+ MB\n"
          ]
        }
      ]
    },
    {
      "cell_type": "code",
      "metadata": {
        "colab": {
          "base_uri": "https://localhost:8080/",
          "height": 300
        },
        "id": "aiEnyzEHr2eZ",
        "outputId": "581f34d2-e21a-4ab0-9f30-2efbcb201eac"
      },
      "source": [
        "covid.describe()"
      ],
      "execution_count": null,
      "outputs": [
        {
          "output_type": "execute_result",
          "data": {
            "text/plain": [
              "              cough         fever   sore_throat  shortness_of_breath  \\\n",
              "count  2.742596e+06  2.742596e+06  2.742596e+06         2.742596e+06   \n",
              "mean   4.059584e-02  3.536649e-02  1.096917e-02         4.016997e-03   \n",
              "std    1.973521e-01  1.847044e-01  1.041578e-01         6.325237e-02   \n",
              "min    0.000000e+00  0.000000e+00  0.000000e+00         0.000000e+00   \n",
              "25%    0.000000e+00  0.000000e+00  0.000000e+00         0.000000e+00   \n",
              "50%    0.000000e+00  0.000000e+00  0.000000e+00         0.000000e+00   \n",
              "75%    0.000000e+00  0.000000e+00  0.000000e+00         0.000000e+00   \n",
              "max    1.000000e+00  1.000000e+00  1.000000e+00         1.000000e+00   \n",
              "\n",
              "          head_ache  \n",
              "count  2.742596e+06  \n",
              "mean   2.185557e-02  \n",
              "std    1.462119e-01  \n",
              "min    0.000000e+00  \n",
              "25%    0.000000e+00  \n",
              "50%    0.000000e+00  \n",
              "75%    0.000000e+00  \n",
              "max    1.000000e+00  "
            ],
            "text/html": [
              "\n",
              "  <div id=\"df-dcac4cce-39d8-4b6f-9300-7573dbbb200e\">\n",
              "    <div class=\"colab-df-container\">\n",
              "      <div>\n",
              "<style scoped>\n",
              "    .dataframe tbody tr th:only-of-type {\n",
              "        vertical-align: middle;\n",
              "    }\n",
              "\n",
              "    .dataframe tbody tr th {\n",
              "        vertical-align: top;\n",
              "    }\n",
              "\n",
              "    .dataframe thead th {\n",
              "        text-align: right;\n",
              "    }\n",
              "</style>\n",
              "<table border=\"1\" class=\"dataframe\">\n",
              "  <thead>\n",
              "    <tr style=\"text-align: right;\">\n",
              "      <th></th>\n",
              "      <th>cough</th>\n",
              "      <th>fever</th>\n",
              "      <th>sore_throat</th>\n",
              "      <th>shortness_of_breath</th>\n",
              "      <th>head_ache</th>\n",
              "    </tr>\n",
              "  </thead>\n",
              "  <tbody>\n",
              "    <tr>\n",
              "      <th>count</th>\n",
              "      <td>2.742596e+06</td>\n",
              "      <td>2.742596e+06</td>\n",
              "      <td>2.742596e+06</td>\n",
              "      <td>2.742596e+06</td>\n",
              "      <td>2.742596e+06</td>\n",
              "    </tr>\n",
              "    <tr>\n",
              "      <th>mean</th>\n",
              "      <td>4.059584e-02</td>\n",
              "      <td>3.536649e-02</td>\n",
              "      <td>1.096917e-02</td>\n",
              "      <td>4.016997e-03</td>\n",
              "      <td>2.185557e-02</td>\n",
              "    </tr>\n",
              "    <tr>\n",
              "      <th>std</th>\n",
              "      <td>1.973521e-01</td>\n",
              "      <td>1.847044e-01</td>\n",
              "      <td>1.041578e-01</td>\n",
              "      <td>6.325237e-02</td>\n",
              "      <td>1.462119e-01</td>\n",
              "    </tr>\n",
              "    <tr>\n",
              "      <th>min</th>\n",
              "      <td>0.000000e+00</td>\n",
              "      <td>0.000000e+00</td>\n",
              "      <td>0.000000e+00</td>\n",
              "      <td>0.000000e+00</td>\n",
              "      <td>0.000000e+00</td>\n",
              "    </tr>\n",
              "    <tr>\n",
              "      <th>25%</th>\n",
              "      <td>0.000000e+00</td>\n",
              "      <td>0.000000e+00</td>\n",
              "      <td>0.000000e+00</td>\n",
              "      <td>0.000000e+00</td>\n",
              "      <td>0.000000e+00</td>\n",
              "    </tr>\n",
              "    <tr>\n",
              "      <th>50%</th>\n",
              "      <td>0.000000e+00</td>\n",
              "      <td>0.000000e+00</td>\n",
              "      <td>0.000000e+00</td>\n",
              "      <td>0.000000e+00</td>\n",
              "      <td>0.000000e+00</td>\n",
              "    </tr>\n",
              "    <tr>\n",
              "      <th>75%</th>\n",
              "      <td>0.000000e+00</td>\n",
              "      <td>0.000000e+00</td>\n",
              "      <td>0.000000e+00</td>\n",
              "      <td>0.000000e+00</td>\n",
              "      <td>0.000000e+00</td>\n",
              "    </tr>\n",
              "    <tr>\n",
              "      <th>max</th>\n",
              "      <td>1.000000e+00</td>\n",
              "      <td>1.000000e+00</td>\n",
              "      <td>1.000000e+00</td>\n",
              "      <td>1.000000e+00</td>\n",
              "      <td>1.000000e+00</td>\n",
              "    </tr>\n",
              "  </tbody>\n",
              "</table>\n",
              "</div>\n",
              "      <button class=\"colab-df-convert\" onclick=\"convertToInteractive('df-dcac4cce-39d8-4b6f-9300-7573dbbb200e')\"\n",
              "              title=\"Convert this dataframe to an interactive table.\"\n",
              "              style=\"display:none;\">\n",
              "        \n",
              "  <svg xmlns=\"http://www.w3.org/2000/svg\" height=\"24px\"viewBox=\"0 0 24 24\"\n",
              "       width=\"24px\">\n",
              "    <path d=\"M0 0h24v24H0V0z\" fill=\"none\"/>\n",
              "    <path d=\"M18.56 5.44l.94 2.06.94-2.06 2.06-.94-2.06-.94-.94-2.06-.94 2.06-2.06.94zm-11 1L8.5 8.5l.94-2.06 2.06-.94-2.06-.94L8.5 2.5l-.94 2.06-2.06.94zm10 10l.94 2.06.94-2.06 2.06-.94-2.06-.94-.94-2.06-.94 2.06-2.06.94z\"/><path d=\"M17.41 7.96l-1.37-1.37c-.4-.4-.92-.59-1.43-.59-.52 0-1.04.2-1.43.59L10.3 9.45l-7.72 7.72c-.78.78-.78 2.05 0 2.83L4 21.41c.39.39.9.59 1.41.59.51 0 1.02-.2 1.41-.59l7.78-7.78 2.81-2.81c.8-.78.8-2.07 0-2.86zM5.41 20L4 18.59l7.72-7.72 1.47 1.35L5.41 20z\"/>\n",
              "  </svg>\n",
              "      </button>\n",
              "      \n",
              "  <style>\n",
              "    .colab-df-container {\n",
              "      display:flex;\n",
              "      flex-wrap:wrap;\n",
              "      gap: 12px;\n",
              "    }\n",
              "\n",
              "    .colab-df-convert {\n",
              "      background-color: #E8F0FE;\n",
              "      border: none;\n",
              "      border-radius: 50%;\n",
              "      cursor: pointer;\n",
              "      display: none;\n",
              "      fill: #1967D2;\n",
              "      height: 32px;\n",
              "      padding: 0 0 0 0;\n",
              "      width: 32px;\n",
              "    }\n",
              "\n",
              "    .colab-df-convert:hover {\n",
              "      background-color: #E2EBFA;\n",
              "      box-shadow: 0px 1px 2px rgba(60, 64, 67, 0.3), 0px 1px 3px 1px rgba(60, 64, 67, 0.15);\n",
              "      fill: #174EA6;\n",
              "    }\n",
              "\n",
              "    [theme=dark] .colab-df-convert {\n",
              "      background-color: #3B4455;\n",
              "      fill: #D2E3FC;\n",
              "    }\n",
              "\n",
              "    [theme=dark] .colab-df-convert:hover {\n",
              "      background-color: #434B5C;\n",
              "      box-shadow: 0px 1px 3px 1px rgba(0, 0, 0, 0.15);\n",
              "      filter: drop-shadow(0px 1px 2px rgba(0, 0, 0, 0.3));\n",
              "      fill: #FFFFFF;\n",
              "    }\n",
              "  </style>\n",
              "\n",
              "      <script>\n",
              "        const buttonEl =\n",
              "          document.querySelector('#df-dcac4cce-39d8-4b6f-9300-7573dbbb200e button.colab-df-convert');\n",
              "        buttonEl.style.display =\n",
              "          google.colab.kernel.accessAllowed ? 'block' : 'none';\n",
              "\n",
              "        async function convertToInteractive(key) {\n",
              "          const element = document.querySelector('#df-dcac4cce-39d8-4b6f-9300-7573dbbb200e');\n",
              "          const dataTable =\n",
              "            await google.colab.kernel.invokeFunction('convertToInteractive',\n",
              "                                                     [key], {});\n",
              "          if (!dataTable) return;\n",
              "\n",
              "          const docLinkHtml = 'Like what you see? Visit the ' +\n",
              "            '<a target=\"_blank\" href=https://colab.research.google.com/notebooks/data_table.ipynb>data table notebook</a>'\n",
              "            + ' to learn more about interactive tables.';\n",
              "          element.innerHTML = '';\n",
              "          dataTable['output_type'] = 'display_data';\n",
              "          await google.colab.output.renderOutput(dataTable, element);\n",
              "          const docLink = document.createElement('div');\n",
              "          docLink.innerHTML = docLinkHtml;\n",
              "          element.appendChild(docLink);\n",
              "        }\n",
              "      </script>\n",
              "    </div>\n",
              "  </div>\n",
              "  "
            ]
          },
          "metadata": {},
          "execution_count": 6
        }
      ]
    },
    {
      "cell_type": "code",
      "metadata": {
        "colab": {
          "base_uri": "https://localhost:8080/",
          "height": 282
        },
        "id": "3N2lDvw0XrBn",
        "outputId": "4785c76c-48e4-42e2-c59d-8257bcbbd0f0"
      },
      "source": [
        "plot = pd.crosstab(index=covid['fever'],\n",
        "            columns=covid['corona_result']).apply(lambda r: r/r.sum() *100,\n",
        "                                              axis=1).plot(kind='bar')\n",
        "#impacto del síntoma fiebre en los resultados positivos y negativos"
      ],
      "execution_count": null,
      "outputs": [
        {
          "output_type": "display_data",
          "data": {
            "image/png": "[encoded data removed]",
            "text/plain": [
              "<Figure size 432x288 with 1 Axes>"
            ]
          },
          "metadata": {
            "tags": [],
            "needs_background": "light"
          }
        }
      ]
    },
    {
      "cell_type": "code",
      "metadata": {
        "colab": {
          "base_uri": "https://localhost:8080/",
          "height": 282
        },
        "id": "iObm16reXwgg",
        "outputId": "04a807c9-bfb3-40ed-af88-f09ab8dd73aa"
      },
      "source": [
        "plot = pd.crosstab(index=covid['shortness_of_breath'],\n",
        "            columns=covid['corona_result']).apply(lambda r: r/r.sum() *100,\n",
        "                                              axis=1).plot(kind='bar')\n",
        "#impacto del síntoma problemas de respiración en los resultados positivos y negativos"
      ],
      "execution_count": null,
      "outputs": [
        {
          "output_type": "display_data",
          "data": {
            "image/png": "[encoded data removed]",
            "text/plain": [
              "<Figure size 432x288 with 1 Axes>"
            ]
          },
          "metadata": {
            "tags": [],
            "needs_background": "light"
          }
        }
      ]
    },
    {
      "cell_type": "code",
      "metadata": {
        "colab": {
          "base_uri": "https://localhost:8080/",
          "height": 282
        },
        "id": "VJ--NpJaXyNB",
        "outputId": "ce4376a6-4644-4c18-98a7-2d722d6effff"
      },
      "source": [
        "plot = pd.crosstab(index=covid['sore_throat'],\n",
        "            columns=covid['corona_result']).apply(lambda r: r/r.sum() *100,\n",
        "                                              axis=1).plot(kind='bar')\n",
        "#impacto del síntoma dolor de garganta en los resultados positivos y negativos"
      ],
      "execution_count": null,
      "outputs": [
        {
          "output_type": "display_data",
          "data": {
            "image/png": "[encoded data removed]",
            "text/plain": [
              "<Figure size 432x288 with 1 Axes>"
            ]
          },
          "metadata": {
            "tags": [],
            "needs_background": "light"
          }
        }
      ]
    },
    {
      "cell_type": "code",
      "metadata": {
        "colab": {
          "base_uri": "https://localhost:8080/",
          "height": 404
        },
        "id": "XoD4bfa4Xz2Z",
        "outputId": "80ab82d9-0e4b-444b-f75f-ac9048182ec0"
      },
      "source": [
        "plot = pd.crosstab(index=covid['test_indication'],\n",
        "            columns=covid['corona_result']).apply(lambda r: r/r.sum() *100,\n",
        "                                              axis=1).plot(kind='bar')\n",
        "#impacto de la variable indicadión de test en los resultados positivos y negativo"
      ],
      "execution_count": null,
      "outputs": [
        {
          "output_type": "display_data",
          "data": {
            "image/png": "[encoded data removed]",
            "text/plain": [
              "<Figure size 432x288 with 1 Axes>"
            ]
          },
          "metadata": {
            "tags": [],
            "needs_background": "light"
          }
        }
      ]
    },
    {
      "cell_type": "code",
      "metadata": {
        "colab": {
          "base_uri": "https://localhost:8080/",
          "height": 386
        },
        "id": "Hkveu-qwX4uR",
        "outputId": "36358768-414b-40bf-f5a8-eed4e1ebd6c2"
      },
      "source": [
        "corona=covid\n",
        "corona['resultado']=(corona['corona_result']=='positive').astype(int)\n",
        "g = sns.catplot(x='fever',y='resultado', col = 'shortness_of_breath', data=corona, hue= 'cough',\n",
        "                kind='bar',aspect=1.2, palette='Set1')\n",
        "(g.set_axis_labels(\"fever\", \"Infected Rate\")\n",
        "  .set_titles(\"{col_name}\")\n",
        "  .set(ylim=(0,1)))\n",
        "\n",
        "#Relación entre los sintomas Fiebre, problemas para respirar, tos y tasa de infectados\n",
        "#notamos que mientras el paciente tenga los tres sintomas es mayor la probabilidad de que se encuentre infectado\n",
        "#de mismo modo, el hecho de tener problemas para respirar junto a algun otro de los 2 síntomas parece mostrar una probabilidad alta de estar infectado"
      ],
      "execution_count": null,
      "outputs": [
        {
          "output_type": "execute_result",
          "data": {
            "text/plain": [
              "<seaborn.axisgrid.FacetGrid at 0x7f69ad808890>"
            ]
          },
          "metadata": {},
          "execution_count": 7
        },
        {
          "output_type": "display_data",
          "data": {
            "text/plain": [
              "<Figure size 910.6x360 with 2 Axes>"
            ],
            "image/png": "[encoded data removed]"
          },
          "metadata": {
            "needs_background": "light"
          }
        }
      ]
    },
    {
      "cell_type": "code",
      "metadata": {
        "colab": {
          "base_uri": "https://localhost:8080/",
          "height": 403
        },
        "id": "wQJ4gBkDX8fo",
        "outputId": "ced4d264-653a-47d9-8963-05e371ceb205"
      },
      "source": [
        "g = sns.catplot(x='sore_throat',y='resultado', col = 'age_60_and_above', data=corona, hue= 'test_indication',\n",
        "                kind='bar',aspect=1.2, palette='Set1')\n",
        "(g.set_axis_labels(\"sore_throat\", \"Infected Rate\")\n",
        "  .set_titles(\"{col_name}\")\n",
        "  .set(ylim=(0,1)))\n",
        "\n",
        "#Relación entre los sintomas dolor de garganta, edad ( mayor a  60  o no) , Indicacion de test y tasa de infectados\n",
        "#notamos que las personas mayores a  60 que presentaron sintomas de dolor de garganta y tuvieron contacto con algun caso confirmado, estuvieron en el extranjero, u otro tipo de contacto, presentan\n",
        "# mayor probabilidad de estar infectados\n",
        "\n",
        "# vemos que el hecho de haber tenido contacto con un caso confirmado influye en la probabilidad de estar infectado en gran medida"
      ],
      "execution_count": null,
      "outputs": [
        {
          "output_type": "execute_result",
          "data": {
            "text/plain": [
              "<seaborn.axisgrid.FacetGrid at 0x7fc721237190>"
            ]
          },
          "metadata": {
            "tags": []
          },
          "execution_count": 10
        },
        {
          "output_type": "display_data",
          "data": {
            "image/png": "[encoded data removed]",
            "text/plain": [
              "<Figure size 1033.1x360 with 2 Axes>"
            ]
          },
          "metadata": {
            "tags": [],
            "needs_background": "light"
          }
        }
      ]
    },
    {
      "cell_type": "code",
      "metadata": {
        "colab": {
          "base_uri": "https://localhost:8080/",
          "height": 403
        },
        "id": "Ch9VIg_iX-Ou",
        "outputId": "489a36fd-6a73-4f9a-9a19-5b01dadfa6ce"
      },
      "source": [
        "g = sns.catplot(x='gender',y='resultado', col = 'head_ache', data=corona, hue= 'test_indication',\n",
        "                kind='bar',aspect=1.2, palette='Set1')\n",
        "(g.set_axis_labels(\"gender\", \"Infected Rate\")\n",
        "  .set_titles(\"{col_name}\")\n",
        "  .set(ylim=(0,1)))\n",
        "\n",
        "#Relación entre el género, síntoma de dolor de cabeza, Indicacion de test y tasa de infectados\n",
        "# notamos que el síntoma de dolor de cabeza es significativo para la detección de casos positivos sin importar el género del paciente"
      ],
      "execution_count": null,
      "outputs": [
        {
          "output_type": "execute_result",
          "data": {
            "text/plain": [
              "<seaborn.axisgrid.FacetGrid at 0x7fc71885fc10>"
            ]
          },
          "metadata": {
            "tags": []
          },
          "execution_count": 11
        },
        {
          "output_type": "display_data",
          "data": {
            "image/png": "[encoded data removed]",
            "text/plain": [
              "<Figure size 1033.1x360 with 2 Axes>"
            ]
          },
          "metadata": {
            "tags": [],
            "needs_background": "light"
          }
        }
      ]
    },
    {
      "cell_type": "code",
      "metadata": {
        "colab": {
          "base_uri": "https://localhost:8080/",
          "height": 206
        },
        "id": "9rfXlt7pZIW9",
        "outputId": "b2e86a5f-ce00-409b-b041-866084066389"
      },
      "source": [
        "covid=covid.drop('resultado',axis=1)\n",
        "covid=covid.drop('test_date',axis=1)\n",
        "covid.head()"
      ],
      "execution_count": null,
      "outputs": [
        {
          "output_type": "execute_result",
          "data": {
            "text/plain": [
              "   cough  fever  sore_throat  shortness_of_breath  head_ache corona_result  \\\n",
              "0      0      0            0                    0          0      negative   \n",
              "1      0      1            0                    0          0      negative   \n",
              "2      0      0            0                    0          0      negative   \n",
              "3      0      0            0                    0          0      negative   \n",
              "4      0      1            0                    0          0      negative   \n",
              "\n",
              "  age_60_and_above  gender         test_indication  \n",
              "0               No    male                   Other  \n",
              "1               No    male                   Other  \n",
              "2              Yes  female                   Other  \n",
              "3               No    male                   Other  \n",
              "4               No    male  Contact with confirmed  "
            ],
            "text/html": [
              "\n",
              "  <div id=\"df-099b56d1-2d04-4769-beaf-889b7be8cf63\">\n",
              "    <div class=\"colab-df-container\">\n",
              "      <div>\n",
              "<style scoped>\n",
              "    .dataframe tbody tr th:only-of-type {\n",
              "        vertical-align: middle;\n",
              "    }\n",
              "\n",
              "    .dataframe tbody tr th {\n",
              "        vertical-align: top;\n",
              "    }\n",
              "\n",
              "    .dataframe thead th {\n",
              "        text-align: right;\n",
              "    }\n",
              "</style>\n",
              "<table border=\"1\" class=\"dataframe\">\n",
              "  <thead>\n",
              "    <tr style=\"text-align: right;\">\n",
              "      <th></th>\n",
              "      <th>cough</th>\n",
              "      <th>fever</th>\n",
              "      <th>sore_throat</th>\n",
              "      <th>shortness_of_breath</th>\n",
              "      <th>head_ache</th>\n",
              "      <th>corona_result</th>\n",
              "      <th>age_60_and_above</th>\n",
              "      <th>gender</th>\n",
              "      <th>test_indication</th>\n",
              "    </tr>\n",
              "  </thead>\n",
              "  <tbody>\n",
              "    <tr>\n",
              "      <th>0</th>\n",
              "      <td>0</td>\n",
              "      <td>0</td>\n",
              "      <td>0</td>\n",
              "      <td>0</td>\n",
              "      <td>0</td>\n",
              "      <td>negative</td>\n",
              "      <td>No</td>\n",
              "      <td>male</td>\n",
              "      <td>Other</td>\n",
              "    </tr>\n",
              "    <tr>\n",
              "      <th>1</th>\n",
              "      <td>0</td>\n",
              "      <td>1</td>\n",
              "      <td>0</td>\n",
              "      <td>0</td>\n",
              "      <td>0</td>\n",
              "      <td>negative</td>\n",
              "      <td>No</td>\n",
              "      <td>male</td>\n",
              "      <td>Other</td>\n",
              "    </tr>\n",
              "    <tr>\n",
              "      <th>2</th>\n",
              "      <td>0</td>\n",
              "      <td>0</td>\n",
              "      <td>0</td>\n",
              "      <td>0</td>\n",
              "      <td>0</td>\n",
              "      <td>negative</td>\n",
              "      <td>Yes</td>\n",
              "      <td>female</td>\n",
              "      <td>Other</td>\n",
              "    </tr>\n",
              "    <tr>\n",
              "      <th>3</th>\n",
              "      <td>0</td>\n",
              "      <td>0</td>\n",
              "      <td>0</td>\n",
              "      <td>0</td>\n",
              "      <td>0</td>\n",
              "      <td>negative</td>\n",
              "      <td>No</td>\n",
              "      <td>male</td>\n",
              "      <td>Other</td>\n",
              "    </tr>\n",
              "    <tr>\n",
              "      <th>4</th>\n",
              "      <td>0</td>\n",
              "      <td>1</td>\n",
              "      <td>0</td>\n",
              "      <td>0</td>\n",
              "      <td>0</td>\n",
              "      <td>negative</td>\n",
              "      <td>No</td>\n",
              "      <td>male</td>\n",
              "      <td>Contact with confirmed</td>\n",
              "    </tr>\n",
              "  </tbody>\n",
              "</table>\n",
              "</div>\n",
              "      <button class=\"colab-df-convert\" onclick=\"convertToInteractive('df-099b56d1-2d04-4769-beaf-889b7be8cf63')\"\n",
              "              title=\"Convert this dataframe to an interactive table.\"\n",
              "              style=\"display:none;\">\n",
              "        \n",
              "  <svg xmlns=\"http://www.w3.org/2000/svg\" height=\"24px\"viewBox=\"0 0 24 24\"\n",
              "       width=\"24px\">\n",
              "    <path d=\"M0 0h24v24H0V0z\" fill=\"none\"/>\n",
              "    <path d=\"M18.56 5.44l.94 2.06.94-2.06 2.06-.94-2.06-.94-.94-2.06-.94 2.06-2.06.94zm-11 1L8.5 8.5l.94-2.06 2.06-.94-2.06-.94L8.5 2.5l-.94 2.06-2.06.94zm10 10l.94 2.06.94-2.06 2.06-.94-2.06-.94-.94-2.06-.94 2.06-2.06.94z\"/><path d=\"M17.41 7.96l-1.37-1.37c-.4-.4-.92-.59-1.43-.59-.52 0-1.04.2-1.43.59L10.3 9.45l-7.72 7.72c-.78.78-.78 2.05 0 2.83L4 21.41c.39.39.9.59 1.41.59.51 0 1.02-.2 1.41-.59l7.78-7.78 2.81-2.81c.8-.78.8-2.07 0-2.86zM5.41 20L4 18.59l7.72-7.72 1.47 1.35L5.41 20z\"/>\n",
              "  </svg>\n",
              "      </button>\n",
              "      \n",
              "  <style>\n",
              "    .colab-df-container {\n",
              "      display:flex;\n",
              "      flex-wrap:wrap;\n",
              "      gap: 12px;\n",
              "    }\n",
              "\n",
              "    .colab-df-convert {\n",
              "      background-color: #E8F0FE;\n",
              "      border: none;\n",
              "      border-radius: 50%;\n",
              "      cursor: pointer;\n",
              "      display: none;\n",
              "      fill: #1967D2;\n",
              "      height: 32px;\n",
              "      padding: 0 0 0 0;\n",
              "      width: 32px;\n",
              "    }\n",
              "\n",
              "    .colab-df-convert:hover {\n",
              "      background-color: #E2EBFA;\n",
              "      box-shadow: 0px 1px 2px rgba(60, 64, 67, 0.3), 0px 1px 3px 1px rgba(60, 64, 67, 0.15);\n",
              "      fill: #174EA6;\n",
              "    }\n",
              "\n",
              "    [theme=dark] .colab-df-convert {\n",
              "      background-color: #3B4455;\n",
              "      fill: #D2E3FC;\n",
              "    }\n",
              "\n",
              "    [theme=dark] .colab-df-convert:hover {\n",
              "      background-color: #434B5C;\n",
              "      box-shadow: 0px 1px 3px 1px rgba(0, 0, 0, 0.15);\n",
              "      filter: drop-shadow(0px 1px 2px rgba(0, 0, 0, 0.3));\n",
              "      fill: #FFFFFF;\n",
              "    }\n",
              "  </style>\n",
              "\n",
              "      <script>\n",
              "        const buttonEl =\n",
              "          document.querySelector('#df-099b56d1-2d04-4769-beaf-889b7be8cf63 button.colab-df-convert');\n",
              "        buttonEl.style.display =\n",
              "          google.colab.kernel.accessAllowed ? 'block' : 'none';\n",
              "\n",
              "        async function convertToInteractive(key) {\n",
              "          const element = document.querySelector('#df-099b56d1-2d04-4769-beaf-889b7be8cf63');\n",
              "          const dataTable =\n",
              "            await google.colab.kernel.invokeFunction('convertToInteractive',\n",
              "                                                     [key], {});\n",
              "          if (!dataTable) return;\n",
              "\n",
              "          const docLinkHtml = 'Like what you see? Visit the ' +\n",
              "            '<a target=\"_blank\" href=https://colab.research.google.com/notebooks/data_table.ipynb>data table notebook</a>'\n",
              "            + ' to learn more about interactive tables.';\n",
              "          element.innerHTML = '';\n",
              "          dataTable['output_type'] = 'display_data';\n",
              "          await google.colab.output.renderOutput(dataTable, element);\n",
              "          const docLink = document.createElement('div');\n",
              "          docLink.innerHTML = docLinkHtml;\n",
              "          element.appendChild(docLink);\n",
              "        }\n",
              "      </script>\n",
              "    </div>\n",
              "  </div>\n",
              "  "
            ]
          },
          "metadata": {},
          "execution_count": 8
        }
      ]
    },
    {
      "cell_type": "code",
      "metadata": {
        "id": "sTJaSACPZQlM"
      },
      "source": [
        "# variable menos importantes luego del analisis: género , ya que el covid es una enfermedad que ataca a las personas sin importar de que género sean\n",
        "# eliminando esa columna y tambien los registros donde el resultado es \"other\", ya que solo importa conocer casos positivos y negativos en el presente proyecto"
      ],
      "execution_count": null,
      "outputs": []
    },
    {
      "cell_type": "markdown",
      "metadata": {
        "id": "7f6sFmUuZU6G"
      },
      "source": [
        "# **TRATAMIENTO DE DATOS Y CODIFICACIÓN**"
      ]
    },
    {
      "cell_type": "code",
      "metadata": {
        "colab": {
          "base_uri": "https://localhost:8080/"
        },
        "id": "HFyE1hu1Zst9",
        "outputId": "8190e86e-7f99-4cf4-87aa-de3809b33b6e"
      },
      "source": [
        "covid=covid.drop('gender',axis=1)\n",
        "covid=covid.drop(covid[covid['corona_result']=='other'].index)\n",
        "\n",
        "covid.corona_result.value_counts()"
      ],
      "execution_count": null,
      "outputs": [
        {
          "output_type": "execute_result",
          "data": {
            "text/plain": [
              "negative    2480403\n",
              "positive     220975\n",
              "Name: corona_result, dtype: int64"
            ]
          },
          "metadata": {},
          "execution_count": 27
        }
      ]
    },
    {
      "cell_type": "code",
      "metadata": {
        "colab": {
          "base_uri": "https://localhost:8080/"
        },
        "id": "aK4cD-BdaLLs",
        "outputId": "a4394e96-c374-4df2-ac4f-db31354dc43a"
      },
      "source": [
        "covid.isna().sum()"
      ],
      "execution_count": null,
      "outputs": [
        {
          "output_type": "execute_result",
          "data": {
            "text/plain": [
              "cough                       0\n",
              "fever                       0\n",
              "sore_throat                 0\n",
              "shortness_of_breath         0\n",
              "head_ache                   0\n",
              "corona_result               0\n",
              "age_60_and_above       541045\n",
              "test_indication             0\n",
              "dtype: int64"
            ]
          },
          "metadata": {},
          "execution_count": 28
        }
      ]
    },
    {
      "cell_type": "code",
      "metadata": {
        "colab": {
          "base_uri": "https://localhost:8080/"
        },
        "id": "1qTgK4GraoP0",
        "outputId": "cf322d88-bb39-42d9-da73-e252ea357b9b"
      },
      "source": [
        "covid.shape"
      ],
      "execution_count": null,
      "outputs": [
        {
          "output_type": "execute_result",
          "data": {
            "text/plain": [
              "(2701378, 8)"
            ]
          },
          "metadata": {
            "tags": []
          },
          "execution_count": 19
        }
      ]
    },
    {
      "cell_type": "markdown",
      "metadata": {
        "id": "eeIi70JLaGsN"
      },
      "source": [
        "Eliminando valores nulos "
      ]
    },
    {
      "cell_type": "code",
      "metadata": {
        "id": "sm0OnfZSaKtr"
      },
      "source": [
        "covid.dropna(axis=0,inplace=True)"
      ],
      "execution_count": null,
      "outputs": []
    },
    {
      "cell_type": "code",
      "metadata": {
        "colab": {
          "base_uri": "https://localhost:8080/"
        },
        "id": "6V1i3j-laXJo",
        "outputId": "a641cb03-30da-4fd1-ee8b-99465489c057"
      },
      "source": [
        "covid.isna().sum()"
      ],
      "execution_count": null,
      "outputs": [
        {
          "output_type": "execute_result",
          "data": {
            "text/plain": [
              "cough                  0\n",
              "fever                  0\n",
              "sore_throat            0\n",
              "shortness_of_breath    0\n",
              "head_ache              0\n",
              "corona_result          0\n",
              "age_60_and_above       0\n",
              "test_indication        0\n",
              "dtype: int64"
            ]
          },
          "metadata": {
            "tags": []
          },
          "execution_count": 24
        }
      ]
    },
    {
      "cell_type": "code",
      "metadata": {
        "colab": {
          "base_uri": "https://localhost:8080/"
        },
        "id": "_wTovbNObO1o",
        "outputId": "00935aba-0bdc-48ff-f1ea-71902c5572e8"
      },
      "source": [
        "covid.shape"
      ],
      "execution_count": null,
      "outputs": [
        {
          "output_type": "execute_result",
          "data": {
            "text/plain": [
              "(2160333, 8)"
            ]
          },
          "metadata": {},
          "execution_count": 30
        }
      ]
    },
    {
      "cell_type": "code",
      "source": [
        "#covid=covid.drop('test_date',axis=1)"
      ],
      "metadata": {
        "id": "rmANFnmqrs_z"
      },
      "execution_count": null,
      "outputs": []
    },
    {
      "cell_type": "markdown",
      "metadata": {
        "id": "JRDCartmbUUy"
      },
      "source": [
        "Codificando columnas"
      ]
    },
    {
      "cell_type": "code",
      "metadata": {
        "colab": {
          "base_uri": "https://localhost:8080/",
          "height": 206
        },
        "id": "LM5pQnLGZ3GT",
        "outputId": "14889ace-04fc-4289-c7e1-1d97c0c23867"
      },
      "source": [
        "num_to_cat1 = {'Yes':1, 'No':0}\n",
        "covid.replace({\"age_60_and_above\": num_to_cat1},inplace=True)\n",
        "\n",
        "num_to_cat2 = {'Other':2, 'Contact with confirmed':1 , 'Abroad':0}\n",
        "covid.replace({\"test_indication\": num_to_cat2},inplace=True)\n",
        "\n",
        "num_to_cat3 = {'negative':0, 'positive':1 }\n",
        "covid.replace({\"corona_result\": num_to_cat3},inplace=True)\n",
        "\n",
        "covid.head()"
      ],
      "execution_count": null,
      "outputs": [
        {
          "output_type": "execute_result",
          "data": {
            "text/html": [
              "\n",
              "  <div id=\"df-a43ee8c1-c7e5-4de0-b1e2-42e95e1d1e8d\">\n",
              "    <div class=\"colab-df-container\">\n",
              "      <div>\n",
              "<style scoped>\n",
              "    .dataframe tbody tr th:only-of-type {\n",
              "        vertical-align: middle;\n",
              "    }\n",
              "\n",
              "    .dataframe tbody tr th {\n",
              "        vertical-align: top;\n",
              "    }\n",
              "\n",
              "    .dataframe thead th {\n",
              "        text-align: right;\n",
              "    }\n",
              "</style>\n",
              "<table border=\"1\" class=\"dataframe\">\n",
              "  <thead>\n",
              "    <tr style=\"text-align: right;\">\n",
              "      <th></th>\n",
              "      <th>cough</th>\n",
              "      <th>fever</th>\n",
              "      <th>sore_throat</th>\n",
              "      <th>shortness_of_breath</th>\n",
              "      <th>head_ache</th>\n",
              "      <th>corona_result</th>\n",
              "      <th>age_60_and_above</th>\n",
              "      <th>test_indication</th>\n",
              "    </tr>\n",
              "  </thead>\n",
              "  <tbody>\n",
              "    <tr>\n",
              "      <th>0</th>\n",
              "      <td>0</td>\n",
              "      <td>0</td>\n",
              "      <td>0</td>\n",
              "      <td>0</td>\n",
              "      <td>0</td>\n",
              "      <td>0</td>\n",
              "      <td>0</td>\n",
              "      <td>2</td>\n",
              "    </tr>\n",
              "    <tr>\n",
              "      <th>1</th>\n",
              "      <td>0</td>\n",
              "      <td>1</td>\n",
              "      <td>0</td>\n",
              "      <td>0</td>\n",
              "      <td>0</td>\n",
              "      <td>0</td>\n",
              "      <td>0</td>\n",
              "      <td>2</td>\n",
              "    </tr>\n",
              "    <tr>\n",
              "      <th>2</th>\n",
              "      <td>0</td>\n",
              "      <td>0</td>\n",
              "      <td>0</td>\n",
              "      <td>0</td>\n",
              "      <td>0</td>\n",
              "      <td>0</td>\n",
              "      <td>1</td>\n",
              "      <td>2</td>\n",
              "    </tr>\n",
              "    <tr>\n",
              "      <th>3</th>\n",
              "      <td>0</td>\n",
              "      <td>0</td>\n",
              "      <td>0</td>\n",
              "      <td>0</td>\n",
              "      <td>0</td>\n",
              "      <td>0</td>\n",
              "      <td>0</td>\n",
              "      <td>2</td>\n",
              "    </tr>\n",
              "    <tr>\n",
              "      <th>4</th>\n",
              "      <td>0</td>\n",
              "      <td>1</td>\n",
              "      <td>0</td>\n",
              "      <td>0</td>\n",
              "      <td>0</td>\n",
              "      <td>0</td>\n",
              "      <td>0</td>\n",
              "      <td>1</td>\n",
              "    </tr>\n",
              "  </tbody>\n",
              "</table>\n",
              "</div>\n",
              "      <button class=\"colab-df-convert\" onclick=\"convertToInteractive('df-a43ee8c1-c7e5-4de0-b1e2-42e95e1d1e8d')\"\n",
              "              title=\"Convert this dataframe to an interactive table.\"\n",
              "              style=\"display:none;\">\n",
              "        \n",
              "  <svg xmlns=\"http://www.w3.org/2000/svg\" height=\"24px\"viewBox=\"0 0 24 24\"\n",
              "       width=\"24px\">\n",
              "    <path d=\"M0 0h24v24H0V0z\" fill=\"none\"/>\n",
              "    <path d=\"M18.56 5.44l.94 2.06.94-2.06 2.06-.94-2.06-.94-.94-2.06-.94 2.06-2.06.94zm-11 1L8.5 8.5l.94-2.06 2.06-.94-2.06-.94L8.5 2.5l-.94 2.06-2.06.94zm10 10l.94 2.06.94-2.06 2.06-.94-2.06-.94-.94-2.06-.94 2.06-2.06.94z\"/><path d=\"M17.41 7.96l-1.37-1.37c-.4-.4-.92-.59-1.43-.59-.52 0-1.04.2-1.43.59L10.3 9.45l-7.72 7.72c-.78.78-.78 2.05 0 2.83L4 21.41c.39.39.9.59 1.41.59.51 0 1.02-.2 1.41-.59l7.78-7.78 2.81-2.81c.8-.78.8-2.07 0-2.86zM5.41 20L4 18.59l7.72-7.72 1.47 1.35L5.41 20z\"/>\n",
              "  </svg>\n",
              "      </button>\n",
              "      \n",
              "  <style>\n",
              "    .colab-df-container {\n",
              "      display:flex;\n",
              "      flex-wrap:wrap;\n",
              "      gap: 12px;\n",
              "    }\n",
              "\n",
              "    .colab-df-convert {\n",
              "      background-color: #E8F0FE;\n",
              "      border: none;\n",
              "      border-radius: 50%;\n",
              "      cursor: pointer;\n",
              "      display: none;\n",
              "      fill: #1967D2;\n",
              "      height: 32px;\n",
              "      padding: 0 0 0 0;\n",
              "      width: 32px;\n",
              "    }\n",
              "\n",
              "    .colab-df-convert:hover {\n",
              "      background-color: #E2EBFA;\n",
              "      box-shadow: 0px 1px 2px rgba(60, 64, 67, 0.3), 0px 1px 3px 1px rgba(60, 64, 67, 0.15);\n",
              "      fill: #174EA6;\n",
              "    }\n",
              "\n",
              "    [theme=dark] .colab-df-convert {\n",
              "      background-color: #3B4455;\n",
              "      fill: #D2E3FC;\n",
              "    }\n",
              "\n",
              "    [theme=dark] .colab-df-convert:hover {\n",
              "      background-color: #434B5C;\n",
              "      box-shadow: 0px 1px 3px 1px rgba(0, 0, 0, 0.15);\n",
              "      filter: drop-shadow(0px 1px 2px rgba(0, 0, 0, 0.3));\n",
              "      fill: #FFFFFF;\n",
              "    }\n",
              "  </style>\n",
              "\n",
              "      <script>\n",
              "        const buttonEl =\n",
              "          document.querySelector('#df-a43ee8c1-c7e5-4de0-b1e2-42e95e1d1e8d button.colab-df-convert');\n",
              "        buttonEl.style.display =\n",
              "          google.colab.kernel.accessAllowed ? 'block' : 'none';\n",
              "\n",
              "        async function convertToInteractive(key) {\n",
              "          const element = document.querySelector('#df-a43ee8c1-c7e5-4de0-b1e2-42e95e1d1e8d');\n",
              "          const dataTable =\n",
              "            await google.colab.kernel.invokeFunction('convertToInteractive',\n",
              "                                                     [key], {});\n",
              "          if (!dataTable) return;\n",
              "\n",
              "          const docLinkHtml = 'Like what you see? Visit the ' +\n",
              "            '<a target=\"_blank\" href=https://colab.research.google.com/notebooks/data_table.ipynb>data table notebook</a>'\n",
              "            + ' to learn more about interactive tables.';\n",
              "          element.innerHTML = '';\n",
              "          dataTable['output_type'] = 'display_data';\n",
              "          await google.colab.output.renderOutput(dataTable, element);\n",
              "          const docLink = document.createElement('div');\n",
              "          docLink.innerHTML = docLinkHtml;\n",
              "          element.appendChild(docLink);\n",
              "        }\n",
              "      </script>\n",
              "    </div>\n",
              "  </div>\n",
              "  "
            ],
            "text/plain": [
              "   cough  fever  sore_throat  ...  corona_result  age_60_and_above  test_indication\n",
              "0      0      0            0  ...              0                 0                2\n",
              "1      0      1            0  ...              0                 0                2\n",
              "2      0      0            0  ...              0                 1                2\n",
              "3      0      0            0  ...              0                 0                2\n",
              "4      0      1            0  ...              0                 0                1\n",
              "\n",
              "[5 rows x 8 columns]"
            ]
          },
          "metadata": {},
          "execution_count": 31
        }
      ]
    },
    {
      "cell_type": "code",
      "metadata": {
        "colab": {
          "base_uri": "https://localhost:8080/",
          "height": 17
        },
        "id": "7xJ9DiW1bmMF",
        "outputId": "2ec47869-3048-4b29-fcd5-69bf01160a95"
      },
      "source": [
        "from google.colab import files ## exportando resultado \n",
        "covid.to_csv('covid_clean.csv', index = False)\n",
        "files.download('covid_clean.csv')"
      ],
      "execution_count": null,
      "outputs": [
        {
          "output_type": "display_data",
          "data": {
            "application/javascript": [
              "\n",
              "    async function download(id, filename, size) {\n",
              "      if (!google.colab.kernel.accessAllowed) {\n",
              "        return;\n",
              "      }\n",
              "      const div = document.createElement('div');\n",
              "      const label = document.createElement('label');\n",
              "      label.textContent = `Downloading \"${filename}\": `;\n",
              "      div.appendChild(label);\n",
              "      const progress = document.createElement('progress');\n",
              "      progress.max = size;\n",
              "      div.appendChild(progress);\n",
              "      document.body.appendChild(div);\n",
              "\n",
              "      const buffers = [];\n",
              "      let downloaded = 0;\n",
              "\n",
              "      const channel = await google.colab.kernel.comms.open(id);\n",
              "      // Send a message to notify the kernel that we're ready.\n",
              "      channel.send({})\n",
              "\n",
              "      for await (const message of channel.messages) {\n",
              "        // Send a message to notify the kernel that we're ready.\n",
              "        channel.send({})\n",
              "        if (message.buffers) {\n",
              "          for (const buffer of message.buffers) {\n",
              "            buffers.push(buffer);\n",
              "            downloaded += buffer.byteLength;\n",
              "            progress.value = downloaded;\n",
              "          }\n",
              "        }\n",
              "      }\n",
              "      const blob = new Blob(buffers, {type: 'application/binary'});\n",
              "      const a = document.createElement('a');\n",
              "      a.href = window.URL.createObjectURL(blob);\n",
              "      a.download = filename;\n",
              "      div.appendChild(a);\n",
              "      a.click();\n",
              "      div.remove();\n",
              "    }\n",
              "  "
            ],
            "text/plain": [
              "<IPython.core.display.Javascript object>"
            ]
          },
          "metadata": {}
        },
        {
          "output_type": "display_data",
          "data": {
            "application/javascript": [
              "download(\"download_e46cb424-47da-4b36-968f-4eb11d2d4251\", \"covid_clean.csv\", 34565429)"
            ],
            "text/plain": [
              "<IPython.core.display.Javascript object>"
            ]
          },
          "metadata": {}
        }
      ]
    },
    {
      "cell_type": "code",
      "metadata": {
        "id": "AQxiaP09c6VU"
      },
      "source": [
        "covid_clean=pd.read_csv('/content/drive/MyDrive/avance4/covid_clean.csv')"
      ],
      "execution_count": null,
      "outputs": []
    },
    {
      "cell_type": "code",
      "metadata": {
        "colab": {
          "base_uri": "https://localhost:8080/"
        },
        "id": "_3jJxcREdzTp",
        "outputId": "5c64c72c-d4ea-4532-d443-8bc1be9b4e5e"
      },
      "source": [
        "covid_clean.shape"
      ],
      "execution_count": null,
      "outputs": [
        {
          "output_type": "execute_result",
          "data": {
            "text/plain": [
              "(2160333, 8)"
            ]
          },
          "metadata": {},
          "execution_count": 42
        }
      ]
    },
    {
      "cell_type": "code",
      "metadata": {
        "colab": {
          "base_uri": "https://localhost:8080/",
          "height": 206
        },
        "id": "qkR-oiyqd35O",
        "outputId": "17c2ebf5-e538-430d-fa1a-6ef181d1f97a"
      },
      "source": [
        "covid_clean.head()"
      ],
      "execution_count": null,
      "outputs": [
        {
          "output_type": "execute_result",
          "data": {
            "text/html": [
              "\n",
              "  <div id=\"df-fef41914-7863-4d92-8d86-40b6f267f344\">\n",
              "    <div class=\"colab-df-container\">\n",
              "      <div>\n",
              "<style scoped>\n",
              "    .dataframe tbody tr th:only-of-type {\n",
              "        vertical-align: middle;\n",
              "    }\n",
              "\n",
              "    .dataframe tbody tr th {\n",
              "        vertical-align: top;\n",
              "    }\n",
              "\n",
              "    .dataframe thead th {\n",
              "        text-align: right;\n",
              "    }\n",
              "</style>\n",
              "<table border=\"1\" class=\"dataframe\">\n",
              "  <thead>\n",
              "    <tr style=\"text-align: right;\">\n",
              "      <th></th>\n",
              "      <th>cough</th>\n",
              "      <th>fever</th>\n",
              "      <th>sore_throat</th>\n",
              "      <th>shortness_of_breath</th>\n",
              "      <th>head_ache</th>\n",
              "      <th>corona_result</th>\n",
              "      <th>age_60_and_above</th>\n",
              "      <th>test_indication</th>\n",
              "    </tr>\n",
              "  </thead>\n",
              "  <tbody>\n",
              "    <tr>\n",
              "      <th>0</th>\n",
              "      <td>0</td>\n",
              "      <td>0</td>\n",
              "      <td>0</td>\n",
              "      <td>0</td>\n",
              "      <td>0</td>\n",
              "      <td>0</td>\n",
              "      <td>0</td>\n",
              "      <td>2</td>\n",
              "    </tr>\n",
              "    <tr>\n",
              "      <th>1</th>\n",
              "      <td>0</td>\n",
              "      <td>1</td>\n",
              "      <td>0</td>\n",
              "      <td>0</td>\n",
              "      <td>0</td>\n",
              "      <td>0</td>\n",
              "      <td>0</td>\n",
              "      <td>2</td>\n",
              "    </tr>\n",
              "    <tr>\n",
              "      <th>2</th>\n",
              "      <td>0</td>\n",
              "      <td>0</td>\n",
              "      <td>0</td>\n",
              "      <td>0</td>\n",
              "      <td>0</td>\n",
              "      <td>0</td>\n",
              "      <td>1</td>\n",
              "      <td>2</td>\n",
              "    </tr>\n",
              "    <tr>\n",
              "      <th>3</th>\n",
              "      <td>0</td>\n",
              "      <td>0</td>\n",
              "      <td>0</td>\n",
              "      <td>0</td>\n",
              "      <td>0</td>\n",
              "      <td>0</td>\n",
              "      <td>0</td>\n",
              "      <td>2</td>\n",
              "    </tr>\n",
              "    <tr>\n",
              "      <th>4</th>\n",
              "      <td>0</td>\n",
              "      <td>1</td>\n",
              "      <td>0</td>\n",
              "      <td>0</td>\n",
              "      <td>0</td>\n",
              "      <td>0</td>\n",
              "      <td>0</td>\n",
              "      <td>1</td>\n",
              "    </tr>\n",
              "  </tbody>\n",
              "</table>\n",
              "</div>\n",
              "      <button class=\"colab-df-convert\" onclick=\"convertToInteractive('df-fef41914-7863-4d92-8d86-40b6f267f344')\"\n",
              "              title=\"Convert this dataframe to an interactive table.\"\n",
              "              style=\"display:none;\">\n",
              "        \n",
              "  <svg xmlns=\"http://www.w3.org/2000/svg\" height=\"24px\"viewBox=\"0 0 24 24\"\n",
              "       width=\"24px\">\n",
              "    <path d=\"M0 0h24v24H0V0z\" fill=\"none\"/>\n",
              "    <path d=\"M18.56 5.44l.94 2.06.94-2.06 2.06-.94-2.06-.94-.94-2.06-.94 2.06-2.06.94zm-11 1L8.5 8.5l.94-2.06 2.06-.94-2.06-.94L8.5 2.5l-.94 2.06-2.06.94zm10 10l.94 2.06.94-2.06 2.06-.94-2.06-.94-.94-2.06-.94 2.06-2.06.94z\"/><path d=\"M17.41 7.96l-1.37-1.37c-.4-.4-.92-.59-1.43-.59-.52 0-1.04.2-1.43.59L10.3 9.45l-7.72 7.72c-.78.78-.78 2.05 0 2.83L4 21.41c.39.39.9.59 1.41.59.51 0 1.02-.2 1.41-.59l7.78-7.78 2.81-2.81c.8-.78.8-2.07 0-2.86zM5.41 20L4 18.59l7.72-7.72 1.47 1.35L5.41 20z\"/>\n",
              "  </svg>\n",
              "      </button>\n",
              "      \n",
              "  <style>\n",
              "    .colab-df-container {\n",
              "      display:flex;\n",
              "      flex-wrap:wrap;\n",
              "      gap: 12px;\n",
              "    }\n",
              "\n",
              "    .colab-df-convert {\n",
              "      background-color: #E8F0FE;\n",
              "      border: none;\n",
              "      border-radius: 50%;\n",
              "      cursor: pointer;\n",
              "      display: none;\n",
              "      fill: #1967D2;\n",
              "      height: 32px;\n",
              "      padding: 0 0 0 0;\n",
              "      width: 32px;\n",
              "    }\n",
              "\n",
              "    .colab-df-convert:hover {\n",
              "      background-color: #E2EBFA;\n",
              "      box-shadow: 0px 1px 2px rgba(60, 64, 67, 0.3), 0px 1px 3px 1px rgba(60, 64, 67, 0.15);\n",
              "      fill: #174EA6;\n",
              "    }\n",
              "\n",
              "    [theme=dark] .colab-df-convert {\n",
              "      background-color: #3B4455;\n",
              "      fill: #D2E3FC;\n",
              "    }\n",
              "\n",
              "    [theme=dark] .colab-df-convert:hover {\n",
              "      background-color: #434B5C;\n",
              "      box-shadow: 0px 1px 3px 1px rgba(0, 0, 0, 0.15);\n",
              "      filter: drop-shadow(0px 1px 2px rgba(0, 0, 0, 0.3));\n",
              "      fill: #FFFFFF;\n",
              "    }\n",
              "  </style>\n",
              "\n",
              "      <script>\n",
              "        const buttonEl =\n",
              "          document.querySelector('#df-fef41914-7863-4d92-8d86-40b6f267f344 button.colab-df-convert');\n",
              "        buttonEl.style.display =\n",
              "          google.colab.kernel.accessAllowed ? 'block' : 'none';\n",
              "\n",
              "        async function convertToInteractive(key) {\n",
              "          const element = document.querySelector('#df-fef41914-7863-4d92-8d86-40b6f267f344');\n",
              "          const dataTable =\n",
              "            await google.colab.kernel.invokeFunction('convertToInteractive',\n",
              "                                                     [key], {});\n",
              "          if (!dataTable) return;\n",
              "\n",
              "          const docLinkHtml = 'Like what you see? Visit the ' +\n",
              "            '<a target=\"_blank\" href=https://colab.research.google.com/notebooks/data_table.ipynb>data table notebook</a>'\n",
              "            + ' to learn more about interactive tables.';\n",
              "          element.innerHTML = '';\n",
              "          dataTable['output_type'] = 'display_data';\n",
              "          await google.colab.output.renderOutput(dataTable, element);\n",
              "          const docLink = document.createElement('div');\n",
              "          docLink.innerHTML = docLinkHtml;\n",
              "          element.appendChild(docLink);\n",
              "        }\n",
              "      </script>\n",
              "    </div>\n",
              "  </div>\n",
              "  "
            ],
            "text/plain": [
              "   cough  fever  sore_throat  ...  corona_result  age_60_and_above  test_indication\n",
              "0      0      0            0  ...              0                 0                2\n",
              "1      0      1            0  ...              0                 0                2\n",
              "2      0      0            0  ...              0                 1                2\n",
              "3      0      0            0  ...              0                 0                2\n",
              "4      0      1            0  ...              0                 0                1\n",
              "\n",
              "[5 rows x 8 columns]"
            ]
          },
          "metadata": {},
          "execution_count": 43
        }
      ]
    },
    {
      "cell_type": "markdown",
      "metadata": {
        "id": "d138y-LMd-Sv"
      },
      "source": [
        "# **EVALUACIÓN DE MODELOS N°1**"
      ]
    },
    {
      "cell_type": "code",
      "metadata": {
        "colab": {
          "base_uri": "https://localhost:8080/"
        },
        "id": "PezzFJmTeZBI",
        "outputId": "4d190f1e-cddc-4e0b-b706-6f074b5524e1"
      },
      "source": [
        "pip install xgboost"
      ],
      "execution_count": null,
      "outputs": [
        {
          "output_type": "stream",
          "text": [
            "Requirement already satisfied: xgboost in /usr/local/lib/python3.7/dist-packages (0.90)\n",
            "Requirement already satisfied: scipy in /usr/local/lib/python3.7/dist-packages (from xgboost) (1.4.1)\n",
            "Requirement already satisfied: numpy in /usr/local/lib/python3.7/dist-packages (from xgboost) (1.19.5)\n"
          ],
          "name": "stdout"
        }
      ]
    },
    {
      "cell_type": "code",
      "metadata": {
        "id": "F-TAzeAJeIQ_"
      },
      "source": [
        "from sklearn.linear_model import LogisticRegression\n",
        "from sklearn.metrics import accuracy_score\n",
        "from sklearn.metrics import classification_report\n",
        "from sklearn.metrics import confusion_matrix\n",
        "from sklearn.model_selection import RandomizedSearchCV, GridSearchCV\n",
        "from sklearn.model_selection import StratifiedKFold\n",
        "import xgboost as xgb\n",
        "from xgboost import XGBClassifier\n",
        "from sklearn.ensemble import RandomForestClassifier\n",
        "from sklearn.svm import SVC\n",
        "from sklearn.metrics import f1_score"
      ],
      "execution_count": null,
      "outputs": []
    },
    {
      "cell_type": "code",
      "metadata": {
        "id": "4oKgRAfMeb7w"
      },
      "source": [
        "X = covid_clean.drop('corona_result',axis=1)\n",
        "y = covid_clean['corona_result']\n",
        "\n",
        "from sklearn.model_selection import train_test_split\n",
        "X_train, X_test, y_train, y_test = train_test_split(X,y,test_size=0.4, stratify=y) "
      ],
      "execution_count": null,
      "outputs": []
    },
    {
      "cell_type": "code",
      "metadata": {
        "id": "xxeqPu0zemht"
      },
      "source": [
        "def evaluar_modelo(model,xtrain,xtest,ytrain,ytest):\n",
        "  \n",
        "  print(\"En train\")\n",
        "  model.fit(xtrain, ytrain)\n",
        "  predicted_train=model.predict(xtrain)\n",
        "  print(confusion_matrix(ytrain, predicted_train))\n",
        "  print(classification_report(ytrain,predicted_train))\n",
        "  print(\"Ahora en test\")\n",
        "  predicted_test=model.predict(xtest)\n",
        "  print(confusion_matrix(ytest, predicted_test))\n",
        "  print(classification_report(ytest,predicted_test))"
      ],
      "execution_count": null,
      "outputs": []
    },
    {
      "cell_type": "code",
      "metadata": {
        "colab": {
          "base_uri": "https://localhost:8080/"
        },
        "id": "OxCgGeMretUI",
        "outputId": "aefd6e60-4dc9-48ae-ce69-57caf60a19d7"
      },
      "source": [
        "rf = RandomForestClassifier()\n",
        "evaluar_modelo(rf,X_train,X_test,y_train,y_test)"
      ],
      "execution_count": null,
      "outputs": [
        {
          "output_type": "stream",
          "text": [
            "En train\n",
            "[[1132428   38253]\n",
            " [  53343   72175]]\n",
            "              precision    recall  f1-score   support\n",
            "\n",
            "           0       0.96      0.97      0.96   1170681\n",
            "           1       0.65      0.58      0.61    125518\n",
            "\n",
            "    accuracy                           0.93   1296199\n",
            "   macro avg       0.80      0.77      0.79   1296199\n",
            "weighted avg       0.93      0.93      0.93   1296199\n",
            "\n",
            "Ahora en test\n",
            "[[755059  25396]\n",
            " [ 35716  47963]]\n",
            "              precision    recall  f1-score   support\n",
            "\n",
            "           0       0.95      0.97      0.96    780455\n",
            "           1       0.65      0.57      0.61     83679\n",
            "\n",
            "    accuracy                           0.93    864134\n",
            "   macro avg       0.80      0.77      0.79    864134\n",
            "weighted avg       0.93      0.93      0.93    864134\n",
            "\n"
          ],
          "name": "stdout"
        }
      ]
    },
    {
      "cell_type": "code",
      "metadata": {
        "colab": {
          "base_uri": "https://localhost:8080/"
        },
        "id": "cxFj_9kKjjG0",
        "outputId": "58e4e523-da27-4c49-e61f-8e19b3b5107a"
      },
      "source": [
        "params = {'max_leaf_nodes': [5,8,10], \n",
        "          'max_depth':[3,4,5,10],  \n",
        "          'n_estimators':[100,150,200],\n",
        "          'min_samples_split':[2,5,10],\n",
        "          'min_samples_leaf':[2,3,5,8]}\n",
        "\n",
        "rf = RandomForestClassifier()         \n",
        "rf_cv = RandomizedSearchCV(rf, params, n_jobs=9, verbose=1, cv=3)\n",
        "rf_cv.fit(X_train, y_train)"
      ],
      "execution_count": null,
      "outputs": [
        {
          "output_type": "stream",
          "text": [
            "Fitting 3 folds for each of 10 candidates, totalling 30 fits\n"
          ],
          "name": "stdout"
        },
        {
          "output_type": "stream",
          "text": [
            "[Parallel(n_jobs=9)]: Using backend LokyBackend with 9 concurrent workers.\n",
            "[Parallel(n_jobs=9)]: Done  30 out of  30 | elapsed: 10.9min finished\n"
          ],
          "name": "stderr"
        },
        {
          "output_type": "execute_result",
          "data": {
            "text/plain": [
              "RandomizedSearchCV(cv=3, error_score=nan,\n",
              "                   estimator=RandomForestClassifier(bootstrap=True,\n",
              "                                                    ccp_alpha=0.0,\n",
              "                                                    class_weight=None,\n",
              "                                                    criterion='gini',\n",
              "                                                    max_depth=None,\n",
              "                                                    max_features='auto',\n",
              "                                                    max_leaf_nodes=None,\n",
              "                                                    max_samples=None,\n",
              "                                                    min_impurity_decrease=0.0,\n",
              "                                                    min_impurity_split=None,\n",
              "                                                    min_samples_leaf=1,\n",
              "                                                    min_samples_split=2,\n",
              "                                                    min_weight_fraction_leaf=0.0,\n",
              "                                                    n_estimators=100,\n",
              "                                                    n_jobs...\n",
              "                                                    oob_score=False,\n",
              "                                                    random_state=None,\n",
              "                                                    verbose=0,\n",
              "                                                    warm_start=False),\n",
              "                   iid='deprecated', n_iter=10, n_jobs=9,\n",
              "                   param_distributions={'max_depth': [3, 4, 5, 10],\n",
              "                                        'max_leaf_nodes': [5, 8, 10],\n",
              "                                        'min_samples_leaf': [2, 3, 5, 8],\n",
              "                                        'min_samples_split': [2, 5, 10],\n",
              "                                        'n_estimators': [100, 150, 200]},\n",
              "                   pre_dispatch='2*n_jobs', random_state=None, refit=True,\n",
              "                   return_train_score=False, scoring=None, verbose=1)"
            ]
          },
          "metadata": {
            "tags": []
          },
          "execution_count": 21
        }
      ]
    },
    {
      "cell_type": "code",
      "metadata": {
        "colab": {
          "base_uri": "https://localhost:8080/"
        },
        "id": "iVShhsOPm_aF",
        "outputId": "827502a2-23d1-40e8-c2d7-6615d82b64f2"
      },
      "source": [
        "rf_best_model = rf_cv.best_estimator_\n",
        "evaluar_modelo(rf_best_model,X_train,X_test,y_train,y_test)"
      ],
      "execution_count": null,
      "outputs": [
        {
          "output_type": "stream",
          "text": [
            "En train\n",
            "[[1156663   14018]\n",
            " [  85946   39572]]\n",
            "              precision    recall  f1-score   support\n",
            "\n",
            "           0       0.93      0.99      0.96   1170681\n",
            "           1       0.74      0.32      0.44    125518\n",
            "\n",
            "    accuracy                           0.92   1296199\n",
            "   macro avg       0.83      0.65      0.70   1296199\n",
            "weighted avg       0.91      0.92      0.91   1296199\n",
            "\n",
            "Ahora en test\n",
            "[[771089   9366]\n",
            " [ 57593  26086]]\n",
            "              precision    recall  f1-score   support\n",
            "\n",
            "           0       0.93      0.99      0.96    780455\n",
            "           1       0.74      0.31      0.44     83679\n",
            "\n",
            "    accuracy                           0.92    864134\n",
            "   macro avg       0.83      0.65      0.70    864134\n",
            "weighted avg       0.91      0.92      0.91    864134\n",
            "\n"
          ],
          "name": "stdout"
        }
      ]
    },
    {
      "cell_type": "code",
      "metadata": {
        "colab": {
          "base_uri": "https://localhost:8080/"
        },
        "id": "bfVDviqEfdW7",
        "outputId": "c0462844-e66f-4b3b-ec3e-4c416f9e2e93"
      },
      "source": [
        "xgbcla = XGBClassifier(objective='binary:logistic')\n",
        "evaluar_modelo(xgbcla,X_train,X_test,y_train,y_test)"
      ],
      "execution_count": null,
      "outputs": [
        {
          "output_type": "stream",
          "text": [
            "En train\n",
            "[[1132429   38252]\n",
            " [  53416   72102]]\n",
            "              precision    recall  f1-score   support\n",
            "\n",
            "           0       0.95      0.97      0.96   1170681\n",
            "           1       0.65      0.57      0.61    125518\n",
            "\n",
            "    accuracy                           0.93   1296199\n",
            "   macro avg       0.80      0.77      0.79   1296199\n",
            "weighted avg       0.93      0.93      0.93   1296199\n",
            "\n",
            "Ahora en test\n",
            "[[755075  25380]\n",
            " [ 35761  47918]]\n",
            "              precision    recall  f1-score   support\n",
            "\n",
            "           0       0.95      0.97      0.96    780455\n",
            "           1       0.65      0.57      0.61     83679\n",
            "\n",
            "    accuracy                           0.93    864134\n",
            "   macro avg       0.80      0.77      0.79    864134\n",
            "weighted avg       0.93      0.93      0.93    864134\n",
            "\n"
          ],
          "name": "stdout"
        }
      ]
    },
    {
      "cell_type": "code",
      "metadata": {
        "colab": {
          "base_uri": "https://localhost:8080/"
        },
        "id": "wiBli2lXj7yb",
        "outputId": "4ccc9b80-0ef0-4d1c-f9a1-ab93160cec41"
      },
      "source": [
        "parameters = {\n",
        "        'min_child_weight': [1, 5, 10],\n",
        "        'gamma': [0.1, 0.5, 1, 5],\n",
        "        'subsample': [0.5, 0.8, 1.0],\n",
        "        'colsample_bytree': [0.6, 0.8, 1.0],\n",
        "        'max_depth': [4,5,6],\n",
        "        'learning_rate': [0.02,0.05,0.1,0.5],\n",
        "        'n_estimators':[100,150,200],\n",
        "        }\n",
        "      \n",
        "model_xgb = xgb.XGBClassifier(objective = 'binary:logistic')\n",
        "xg_CV =RandomizedSearchCV(model_xgb, parameters , n_jobs=9, cv=3,verbose=1) \n",
        "xg_CV.fit(X_train,y_train)"
      ],
      "execution_count": null,
      "outputs": [
        {
          "output_type": "stream",
          "text": [
            "Fitting 3 folds for each of 10 candidates, totalling 30 fits\n"
          ],
          "name": "stdout"
        },
        {
          "output_type": "stream",
          "text": [
            "[Parallel(n_jobs=9)]: Using backend LokyBackend with 9 concurrent workers.\n",
            "[Parallel(n_jobs=9)]: Done  30 out of  30 | elapsed: 31.4min finished\n"
          ],
          "name": "stderr"
        },
        {
          "output_type": "execute_result",
          "data": {
            "text/plain": [
              "RandomizedSearchCV(cv=3, error_score=nan,\n",
              "                   estimator=XGBClassifier(base_score=0.5, booster='gbtree',\n",
              "                                           colsample_bylevel=1,\n",
              "                                           colsample_bynode=1,\n",
              "                                           colsample_bytree=1, gamma=0,\n",
              "                                           learning_rate=0.1, max_delta_step=0,\n",
              "                                           max_depth=3, min_child_weight=1,\n",
              "                                           missing=None, n_estimators=100,\n",
              "                                           n_jobs=1, nthread=None,\n",
              "                                           objective='binary:logistic',\n",
              "                                           random_state=0, reg_alpha=0,\n",
              "                                           reg_lambda=1, sc...\n",
              "                   iid='deprecated', n_iter=10, n_jobs=9,\n",
              "                   param_distributions={'colsample_bytree': [0.6, 0.8, 1.0],\n",
              "                                        'gamma': [0.1, 0.5, 1, 5],\n",
              "                                        'learning_rate': [0.02, 0.05, 0.1, 0.5],\n",
              "                                        'max_depth': [4, 5, 6],\n",
              "                                        'min_child_weight': [1, 5, 10],\n",
              "                                        'n_estimators': [100, 150, 200],\n",
              "                                        'subsample': [0.5, 0.8, 1.0]},\n",
              "                   pre_dispatch='2*n_jobs', random_state=None, refit=True,\n",
              "                   return_train_score=False, scoring=None, verbose=1)"
            ]
          },
          "metadata": {
            "tags": []
          },
          "execution_count": 10
        }
      ]
    },
    {
      "cell_type": "code",
      "metadata": {
        "colab": {
          "base_uri": "https://localhost:8080/"
        },
        "id": "zi9JNuSfvkGm",
        "outputId": "70caf4f0-9b7f-4100-8ee8-8d0a96db1774"
      },
      "source": [
        "xg_best=xg_CV.best_estimator_\n",
        "evaluar_modelo(xg_best,X_train,X_test,y_train,y_test) ## mejor que rf_best y rf normal"
      ],
      "execution_count": null,
      "outputs": [
        {
          "output_type": "stream",
          "text": [
            "En train\n",
            "[[1132368   38313]\n",
            " [  53632   71886]]\n",
            "              precision    recall  f1-score   support\n",
            "\n",
            "           0       0.95      0.97      0.96   1170681\n",
            "           1       0.65      0.57      0.61    125518\n",
            "\n",
            "    accuracy                           0.93   1296199\n",
            "   macro avg       0.80      0.77      0.79   1296199\n",
            "weighted avg       0.93      0.93      0.93   1296199\n",
            "\n",
            "Ahora en test\n",
            "[[755129  25326]\n",
            " [ 35474  48205]]\n",
            "              precision    recall  f1-score   support\n",
            "\n",
            "           0       0.96      0.97      0.96    780455\n",
            "           1       0.66      0.58      0.61     83679\n",
            "\n",
            "    accuracy                           0.93    864134\n",
            "   macro avg       0.81      0.77      0.79    864134\n",
            "weighted avg       0.93      0.93      0.93    864134\n",
            "\n"
          ],
          "name": "stdout"
        }
      ]
    },
    {
      "cell_type": "markdown",
      "metadata": {
        "id": "7UFwhipwvTK-"
      },
      "source": [
        "# **Balance de clases y evaluación N° 2**"
      ]
    },
    {
      "cell_type": "code",
      "metadata": {
        "colab": {
          "base_uri": "https://localhost:8080/"
        },
        "id": "eKul0D37zn0a",
        "outputId": "337370bb-1efd-4735-e108-27c96d767101"
      },
      "source": [
        "pip install imbalanced-learn"
      ],
      "execution_count": null,
      "outputs": [
        {
          "output_type": "stream",
          "name": "stdout",
          "text": [
            "Requirement already satisfied: imbalanced-learn in /usr/local/lib/python3.7/dist-packages (0.8.1)\n",
            "Requirement already satisfied: scikit-learn>=0.24 in /usr/local/lib/python3.7/dist-packages (from imbalanced-learn) (1.0.2)\n",
            "Requirement already satisfied: numpy>=1.13.3 in /usr/local/lib/python3.7/dist-packages (from imbalanced-learn) (1.21.5)\n",
            "Requirement already satisfied: scipy>=0.19.1 in /usr/local/lib/python3.7/dist-packages (from imbalanced-learn) (1.4.1)\n",
            "Requirement already satisfied: joblib>=0.11 in /usr/local/lib/python3.7/dist-packages (from imbalanced-learn) (1.1.0)\n",
            "Requirement already satisfied: threadpoolctl>=2.0.0 in /usr/local/lib/python3.7/dist-packages (from scikit-learn>=0.24->imbalanced-learn) (3.1.0)\n"
          ]
        }
      ]
    },
    {
      "cell_type": "code",
      "metadata": {
        "id": "mDhWyupQzqnj"
      },
      "source": [
        "from imblearn.pipeline import make_pipeline\n",
        "from imblearn.base import BaseSampler\n",
        "from imblearn.under_sampling import RandomUnderSampler\n",
        "from imblearn.over_sampling import (SMOTE, RandomOverSampler)\n",
        "from imblearn.combine import SMOTEENN, SMOTETomek\n",
        "\n",
        "\n",
        "import warnings\n",
        "warnings.simplefilter(action='ignore', category=FutureWarning)"
      ],
      "execution_count": null,
      "outputs": []
    },
    {
      "cell_type": "code",
      "metadata": {
        "colab": {
          "base_uri": "https://localhost:8080/"
        },
        "id": "dpUCnEJezxTT",
        "outputId": "586b0ace-4b72-42de-dcde-ff575732659e"
      },
      "source": [
        "SM=SMOTE() \n",
        "x_bal, y_bal= SM.fit_resample(X_train,y_train) \n",
        "from collections import Counter\n",
        "print('Resampled dataset shape %s' % Counter(y_bal))"
      ],
      "execution_count": null,
      "outputs": [
        {
          "output_type": "stream",
          "name": "stdout",
          "text": [
            "Resampled dataset shape Counter({0: 1170681, 1: 1170681})\n"
          ]
        }
      ]
    },
    {
      "cell_type": "code",
      "metadata": {
        "id": "bArprqskWQOT"
      },
      "source": [
        "column_names = [\"Tos\",\t\"fiebre\",\t\"dolor_de_garganta\",\"dificultad_para_respirar\",\"dolor_de_cabeza\",\"mayor_a_60_años\",\"indicación_de_test\"]\n",
        "X_bal = pd.DataFrame(x_bal, columns = column_names)\n",
        "Y_bal=pd.DataFrame(y_bal, columns = ['resultado'])"
      ],
      "execution_count": null,
      "outputs": []
    },
    {
      "cell_type": "code",
      "metadata": {
        "id": "qLD3eWFvPdEa"
      },
      "source": [
        "covid_bal=pd.concat([X_bal, Y_bal], axis=1) "
      ],
      "execution_count": null,
      "outputs": []
    },
    {
      "cell_type": "code",
      "source": [
        "covid_bal.isnull().sum()"
      ],
      "metadata": {
        "colab": {
          "base_uri": "https://localhost:8080/"
        },
        "id": "vwwRGoqhvYwc",
        "outputId": "5ed06976-74cf-426f-cd69-09184ed7e704"
      },
      "execution_count": null,
      "outputs": [
        {
          "output_type": "execute_result",
          "data": {
            "text/plain": [
              "Tos                         2341362\n",
              "fiebre                      2341362\n",
              "dolor_de_garganta           2341362\n",
              "dificultad_para_respirar    2341362\n",
              "dolor_de_cabeza             2341362\n",
              "mayor_a_60_años             2341362\n",
              "indicación_de_test          2341362\n",
              "resultado                   2341362\n",
              "dtype: int64"
            ]
          },
          "metadata": {},
          "execution_count": 40
        }
      ]
    },
    {
      "cell_type": "code",
      "metadata": {
        "colab": {
          "base_uri": "https://localhost:8080/",
          "height": 206
        },
        "id": "6_GA8TGrSosr",
        "outputId": "b53df060-2a4c-4b22-dc74-52f900c0205e"
      },
      "source": [
        "covid_bal.head()"
      ],
      "execution_count": null,
      "outputs": [
        {
          "output_type": "execute_result",
          "data": {
            "text/html": [
              "\n",
              "  <div id=\"df-955ca058-be18-4b77-83e2-3291fe2c41dd\">\n",
              "    <div class=\"colab-df-container\">\n",
              "      <div>\n",
              "<style scoped>\n",
              "    .dataframe tbody tr th:only-of-type {\n",
              "        vertical-align: middle;\n",
              "    }\n",
              "\n",
              "    .dataframe tbody tr th {\n",
              "        vertical-align: top;\n",
              "    }\n",
              "\n",
              "    .dataframe thead th {\n",
              "        text-align: right;\n",
              "    }\n",
              "</style>\n",
              "<table border=\"1\" class=\"dataframe\">\n",
              "  <thead>\n",
              "    <tr style=\"text-align: right;\">\n",
              "      <th></th>\n",
              "      <th>Tos</th>\n",
              "      <th>fiebre</th>\n",
              "      <th>dolor_de_garganta</th>\n",
              "      <th>dificultad_para_respirar</th>\n",
              "      <th>dolor_de_cabeza</th>\n",
              "      <th>mayor_a_60_años</th>\n",
              "      <th>indicación_de_test</th>\n",
              "      <th>resultado</th>\n",
              "    </tr>\n",
              "  </thead>\n",
              "  <tbody>\n",
              "    <tr>\n",
              "      <th>0</th>\n",
              "      <td>NaN</td>\n",
              "      <td>NaN</td>\n",
              "      <td>NaN</td>\n",
              "      <td>NaN</td>\n",
              "      <td>NaN</td>\n",
              "      <td>NaN</td>\n",
              "      <td>NaN</td>\n",
              "      <td>NaN</td>\n",
              "    </tr>\n",
              "    <tr>\n",
              "      <th>1</th>\n",
              "      <td>NaN</td>\n",
              "      <td>NaN</td>\n",
              "      <td>NaN</td>\n",
              "      <td>NaN</td>\n",
              "      <td>NaN</td>\n",
              "      <td>NaN</td>\n",
              "      <td>NaN</td>\n",
              "      <td>NaN</td>\n",
              "    </tr>\n",
              "    <tr>\n",
              "      <th>2</th>\n",
              "      <td>NaN</td>\n",
              "      <td>NaN</td>\n",
              "      <td>NaN</td>\n",
              "      <td>NaN</td>\n",
              "      <td>NaN</td>\n",
              "      <td>NaN</td>\n",
              "      <td>NaN</td>\n",
              "      <td>NaN</td>\n",
              "    </tr>\n",
              "    <tr>\n",
              "      <th>3</th>\n",
              "      <td>NaN</td>\n",
              "      <td>NaN</td>\n",
              "      <td>NaN</td>\n",
              "      <td>NaN</td>\n",
              "      <td>NaN</td>\n",
              "      <td>NaN</td>\n",
              "      <td>NaN</td>\n",
              "      <td>NaN</td>\n",
              "    </tr>\n",
              "    <tr>\n",
              "      <th>4</th>\n",
              "      <td>NaN</td>\n",
              "      <td>NaN</td>\n",
              "      <td>NaN</td>\n",
              "      <td>NaN</td>\n",
              "      <td>NaN</td>\n",
              "      <td>NaN</td>\n",
              "      <td>NaN</td>\n",
              "      <td>NaN</td>\n",
              "    </tr>\n",
              "  </tbody>\n",
              "</table>\n",
              "</div>\n",
              "      <button class=\"colab-df-convert\" onclick=\"convertToInteractive('df-955ca058-be18-4b77-83e2-3291fe2c41dd')\"\n",
              "              title=\"Convert this dataframe to an interactive table.\"\n",
              "              style=\"display:none;\">\n",
              "        \n",
              "  <svg xmlns=\"http://www.w3.org/2000/svg\" height=\"24px\"viewBox=\"0 0 24 24\"\n",
              "       width=\"24px\">\n",
              "    <path d=\"M0 0h24v24H0V0z\" fill=\"none\"/>\n",
              "    <path d=\"M18.56 5.44l.94 2.06.94-2.06 2.06-.94-2.06-.94-.94-2.06-.94 2.06-2.06.94zm-11 1L8.5 8.5l.94-2.06 2.06-.94-2.06-.94L8.5 2.5l-.94 2.06-2.06.94zm10 10l.94 2.06.94-2.06 2.06-.94-2.06-.94-.94-2.06-.94 2.06-2.06.94z\"/><path d=\"M17.41 7.96l-1.37-1.37c-.4-.4-.92-.59-1.43-.59-.52 0-1.04.2-1.43.59L10.3 9.45l-7.72 7.72c-.78.78-.78 2.05 0 2.83L4 21.41c.39.39.9.59 1.41.59.51 0 1.02-.2 1.41-.59l7.78-7.78 2.81-2.81c.8-.78.8-2.07 0-2.86zM5.41 20L4 18.59l7.72-7.72 1.47 1.35L5.41 20z\"/>\n",
              "  </svg>\n",
              "      </button>\n",
              "      \n",
              "  <style>\n",
              "    .colab-df-container {\n",
              "      display:flex;\n",
              "      flex-wrap:wrap;\n",
              "      gap: 12px;\n",
              "    }\n",
              "\n",
              "    .colab-df-convert {\n",
              "      background-color: #E8F0FE;\n",
              "      border: none;\n",
              "      border-radius: 50%;\n",
              "      cursor: pointer;\n",
              "      display: none;\n",
              "      fill: #1967D2;\n",
              "      height: 32px;\n",
              "      padding: 0 0 0 0;\n",
              "      width: 32px;\n",
              "    }\n",
              "\n",
              "    .colab-df-convert:hover {\n",
              "      background-color: #E2EBFA;\n",
              "      box-shadow: 0px 1px 2px rgba(60, 64, 67, 0.3), 0px 1px 3px 1px rgba(60, 64, 67, 0.15);\n",
              "      fill: #174EA6;\n",
              "    }\n",
              "\n",
              "    [theme=dark] .colab-df-convert {\n",
              "      background-color: #3B4455;\n",
              "      fill: #D2E3FC;\n",
              "    }\n",
              "\n",
              "    [theme=dark] .colab-df-convert:hover {\n",
              "      background-color: #434B5C;\n",
              "      box-shadow: 0px 1px 3px 1px rgba(0, 0, 0, 0.15);\n",
              "      filter: drop-shadow(0px 1px 2px rgba(0, 0, 0, 0.3));\n",
              "      fill: #FFFFFF;\n",
              "    }\n",
              "  </style>\n",
              "\n",
              "      <script>\n",
              "        const buttonEl =\n",
              "          document.querySelector('#df-955ca058-be18-4b77-83e2-3291fe2c41dd button.colab-df-convert');\n",
              "        buttonEl.style.display =\n",
              "          google.colab.kernel.accessAllowed ? 'block' : 'none';\n",
              "\n",
              "        async function convertToInteractive(key) {\n",
              "          const element = document.querySelector('#df-955ca058-be18-4b77-83e2-3291fe2c41dd');\n",
              "          const dataTable =\n",
              "            await google.colab.kernel.invokeFunction('convertToInteractive',\n",
              "                                                     [key], {});\n",
              "          if (!dataTable) return;\n",
              "\n",
              "          const docLinkHtml = 'Like what you see? Visit the ' +\n",
              "            '<a target=\"_blank\" href=https://colab.research.google.com/notebooks/data_table.ipynb>data table notebook</a>'\n",
              "            + ' to learn more about interactive tables.';\n",
              "          element.innerHTML = '';\n",
              "          dataTable['output_type'] = 'display_data';\n",
              "          await google.colab.output.renderOutput(dataTable, element);\n",
              "          const docLink = document.createElement('div');\n",
              "          docLink.innerHTML = docLinkHtml;\n",
              "          element.appendChild(docLink);\n",
              "        }\n",
              "      </script>\n",
              "    </div>\n",
              "  </div>\n",
              "  "
            ],
            "text/plain": [
              "   Tos  fiebre  ...  indicación_de_test  resultado\n",
              "0  NaN     NaN  ...                 NaN        NaN\n",
              "1  NaN     NaN  ...                 NaN        NaN\n",
              "2  NaN     NaN  ...                 NaN        NaN\n",
              "3  NaN     NaN  ...                 NaN        NaN\n",
              "4  NaN     NaN  ...                 NaN        NaN\n",
              "\n",
              "[5 rows x 8 columns]"
            ]
          },
          "metadata": {},
          "execution_count": 39
        }
      ]
    },
    {
      "cell_type": "code",
      "metadata": {
        "colab": {
          "base_uri": "https://localhost:8080/",
          "height": 34
        },
        "id": "IIBW5KfdPgRU",
        "outputId": "b90147de-a062-4f1a-85ea-84b7af877ace"
      },
      "source": [
        "from google.colab import files ## exportando resultado \n",
        "covid_bal.to_csv('covid_bal.csv', index = False)\n",
        "files.download('covid_bal.csv')"
      ],
      "execution_count": null,
      "outputs": [
        {
          "output_type": "display_data",
          "data": {
            "application/javascript": [
              "\n",
              "    async function download(id, filename, size) {\n",
              "      if (!google.colab.kernel.accessAllowed) {\n",
              "        return;\n",
              "      }\n",
              "      const div = document.createElement('div');\n",
              "      const label = document.createElement('label');\n",
              "      label.textContent = `Downloading \"${filename}\": `;\n",
              "      div.appendChild(label);\n",
              "      const progress = document.createElement('progress');\n",
              "      progress.max = size;\n",
              "      div.appendChild(progress);\n",
              "      document.body.appendChild(div);\n",
              "\n",
              "      const buffers = [];\n",
              "      let downloaded = 0;\n",
              "\n",
              "      const channel = await google.colab.kernel.comms.open(id);\n",
              "      // Send a message to notify the kernel that we're ready.\n",
              "      channel.send({})\n",
              "\n",
              "      for await (const message of channel.messages) {\n",
              "        // Send a message to notify the kernel that we're ready.\n",
              "        channel.send({})\n",
              "        if (message.buffers) {\n",
              "          for (const buffer of message.buffers) {\n",
              "            buffers.push(buffer);\n",
              "            downloaded += buffer.byteLength;\n",
              "            progress.value = downloaded;\n",
              "          }\n",
              "        }\n",
              "      }\n",
              "      const blob = new Blob(buffers, {type: 'application/binary'});\n",
              "      const a = document.createElement('a');\n",
              "      a.href = window.URL.createObjectURL(blob);\n",
              "      a.download = filename;\n",
              "      div.appendChild(a);\n",
              "      a.click();\n",
              "      div.remove();\n",
              "    }\n",
              "  "
            ],
            "text/plain": [
              "<IPython.core.display.Javascript object>"
            ]
          },
          "metadata": {
            "tags": []
          }
        },
        {
          "output_type": "display_data",
          "data": {
            "application/javascript": [
              "download(\"download_96b769ae-c5f6-4130-9d8b-8771f12c4314\", \"covid_bal.csv\", 37461909)"
            ],
            "text/plain": [
              "<IPython.core.display.Javascript object>"
            ]
          },
          "metadata": {
            "tags": []
          }
        }
      ]
    },
    {
      "cell_type": "code",
      "metadata": {
        "colab": {
          "base_uri": "https://localhost:8080/"
        },
        "id": "ztQxQHBJRzue",
        "outputId": "7e624e00-f0f9-47a5-9238-993b31c92893"
      },
      "source": [
        "rf = RandomForestClassifier()\n",
        "evaluar_modelo(rf,X_bal,X_test,Y_bal,y_test) ## es mejor sin tunning"
      ],
      "execution_count": null,
      "outputs": [
        {
          "output_type": "stream",
          "text": [
            "En train\n"
          ],
          "name": "stdout"
        },
        {
          "output_type": "stream",
          "text": [
            "/usr/local/lib/python3.7/dist-packages/ipykernel_launcher.py:4: DataConversionWarning: A column-vector y was passed when a 1d array was expected. Please change the shape of y to (n_samples,), for example using ravel().\n",
            "  after removing the cwd from sys.path.\n"
          ],
          "name": "stderr"
        },
        {
          "output_type": "stream",
          "text": [
            "[[1112690   57991]\n",
            " [ 406461  764220]]\n",
            "              precision    recall  f1-score   support\n",
            "\n",
            "           0       0.73      0.95      0.83   1170681\n",
            "           1       0.93      0.65      0.77   1170681\n",
            "\n",
            "    accuracy                           0.80   2341362\n",
            "   macro avg       0.83      0.80      0.80   2341362\n",
            "weighted avg       0.83      0.80      0.80   2341362\n",
            "\n",
            "Ahora en test\n",
            "[[741718  38737]\n",
            " [ 29484  54195]]\n",
            "              precision    recall  f1-score   support\n",
            "\n",
            "           0       0.96      0.95      0.96    780455\n",
            "           1       0.58      0.65      0.61     83679\n",
            "\n",
            "    accuracy                           0.92    864134\n",
            "   macro avg       0.77      0.80      0.78    864134\n",
            "weighted avg       0.93      0.92      0.92    864134\n",
            "\n"
          ],
          "name": "stdout"
        }
      ]
    },
    {
      "cell_type": "code",
      "metadata": {
        "colab": {
          "base_uri": "https://localhost:8080/"
        },
        "id": "Oo3UjAQISVsU",
        "outputId": "b605c877-076b-40bf-9383-04c12a1ca127"
      },
      "source": [
        "params = {'max_leaf_nodes': [5,6,8,10], \n",
        "          'max_depth':[3,4,5,10],  \n",
        "          'n_estimators':[100,150,200],\n",
        "          'min_samples_split':[2,4,5,6,10],\n",
        "          'min_samples_leaf':[2,3,4,5,8]}\n",
        "\n",
        "rf = RandomForestClassifier()         \n",
        "rf_cv = RandomizedSearchCV(rf, params, n_jobs=9, verbose=1, cv=5)\n",
        "rf_cv.fit(x_bal, y_bal)"
      ],
      "execution_count": null,
      "outputs": [
        {
          "output_type": "stream",
          "text": [
            "Fitting 5 folds for each of 10 candidates, totalling 50 fits\n"
          ],
          "name": "stdout"
        },
        {
          "output_type": "stream",
          "text": [
            "[Parallel(n_jobs=9)]: Using backend LokyBackend with 9 concurrent workers.\n",
            "[Parallel(n_jobs=9)]: Done  32 tasks      | elapsed: 36.1min\n",
            "[Parallel(n_jobs=9)]: Done  50 out of  50 | elapsed: 45.4min finished\n"
          ],
          "name": "stderr"
        },
        {
          "output_type": "execute_result",
          "data": {
            "text/plain": [
              "RandomizedSearchCV(cv=5, error_score=nan,\n",
              "                   estimator=RandomForestClassifier(bootstrap=True,\n",
              "                                                    ccp_alpha=0.0,\n",
              "                                                    class_weight=None,\n",
              "                                                    criterion='gini',\n",
              "                                                    max_depth=None,\n",
              "                                                    max_features='auto',\n",
              "                                                    max_leaf_nodes=None,\n",
              "                                                    max_samples=None,\n",
              "                                                    min_impurity_decrease=0.0,\n",
              "                                                    min_impurity_split=None,\n",
              "                                                    min_samples_leaf=1,\n",
              "                                                    min_samples_split=2,\n",
              "                                                    min_weight_fraction_leaf=0.0,\n",
              "                                                    n_estimators=100,\n",
              "                                                    n_jobs...\n",
              "                                                    oob_score=False,\n",
              "                                                    random_state=None,\n",
              "                                                    verbose=0,\n",
              "                                                    warm_start=False),\n",
              "                   iid='deprecated', n_iter=10, n_jobs=9,\n",
              "                   param_distributions={'max_depth': [3, 4, 5, 10],\n",
              "                                        'max_leaf_nodes': [5, 6, 8, 10],\n",
              "                                        'min_samples_leaf': [2, 3, 4, 5, 8],\n",
              "                                        'min_samples_split': [2, 4, 5, 6, 10],\n",
              "                                        'n_estimators': [100, 150, 200]},\n",
              "                   pre_dispatch='2*n_jobs', random_state=None, refit=True,\n",
              "                   return_train_score=False, scoring=None, verbose=1)"
            ]
          },
          "metadata": {
            "tags": []
          },
          "execution_count": 28
        }
      ]
    },
    {
      "cell_type": "code",
      "metadata": {
        "colab": {
          "base_uri": "https://localhost:8080/"
        },
        "id": "q2OHCX_ST9wn",
        "outputId": "15f1e1fd-e4bf-43ce-b75e-cd433c94b3c5"
      },
      "source": [
        "rf_best_model = rf_cv.best_estimator_\n",
        "evaluar_modelo(rf_best_model,x_bal,X_test,y_bal,y_test)"
      ],
      "execution_count": null,
      "outputs": [
        {
          "output_type": "stream",
          "text": [
            "En train\n",
            "[[1106586   64095]\n",
            " [ 404420  766261]]\n",
            "              precision    recall  f1-score   support\n",
            "\n",
            "           0       0.73      0.95      0.83   1170681\n",
            "           1       0.92      0.65      0.77   1170681\n",
            "\n",
            "    accuracy                           0.80   2341362\n",
            "   macro avg       0.83      0.80      0.80   2341362\n",
            "weighted avg       0.83      0.80      0.80   2341362\n",
            "\n",
            "Ahora en test\n",
            "[[737626  42829]\n",
            " [ 29291  54388]]\n",
            "              precision    recall  f1-score   support\n",
            "\n",
            "           0       0.96      0.95      0.95    780455\n",
            "           1       0.56      0.65      0.60     83679\n",
            "\n",
            "    accuracy                           0.92    864134\n",
            "   macro avg       0.76      0.80      0.78    864134\n",
            "weighted avg       0.92      0.92      0.92    864134\n",
            "\n"
          ],
          "name": "stdout"
        }
      ]
    },
    {
      "cell_type": "code",
      "metadata": {
        "colab": {
          "base_uri": "https://localhost:8080/"
        },
        "id": "u2O_RauGV7aS",
        "outputId": "d9abd8a7-a002-44ab-fd91-2912c85f9ad2"
      },
      "source": [
        "xgbcla = XGBClassifier(objective='binary:logistic') ## es igual con tunning\n",
        "evaluar_modelo(xgbcla,X_bal,X_test,Y_bal,y_test)"
      ],
      "execution_count": null,
      "outputs": [
        {
          "output_type": "stream",
          "text": [
            "En train\n"
          ],
          "name": "stdout"
        },
        {
          "output_type": "stream",
          "text": [
            "/usr/local/lib/python3.7/dist-packages/sklearn/preprocessing/_label.py:235: DataConversionWarning: A column-vector y was passed when a 1d array was expected. Please change the shape of y to (n_samples, ), for example using ravel().\n",
            "  y = column_or_1d(y, warn=True)\n",
            "/usr/local/lib/python3.7/dist-packages/sklearn/preprocessing/_label.py:268: DataConversionWarning: A column-vector y was passed when a 1d array was expected. Please change the shape of y to (n_samples, ), for example using ravel().\n",
            "  y = column_or_1d(y, warn=True)\n"
          ],
          "name": "stderr"
        },
        {
          "output_type": "stream",
          "text": [
            "[[119423   6095]\n",
            " [ 43542  81976]]\n",
            "              precision    recall  f1-score   support\n",
            "\n",
            "           0       0.73      0.95      0.83    125518\n",
            "           1       0.93      0.65      0.77    125518\n",
            "\n",
            "    accuracy                           0.80    251036\n",
            "   macro avg       0.83      0.80      0.80    251036\n",
            "weighted avg       0.83      0.80      0.80    251036\n",
            "\n",
            "Ahora en test\n",
            "[[741714  38741]\n",
            " [ 29477  54202]]\n",
            "              precision    recall  f1-score   support\n",
            "\n",
            "           0       0.96      0.95      0.96    780455\n",
            "           1       0.58      0.65      0.61     83679\n",
            "\n",
            "    accuracy                           0.92    864134\n",
            "   macro avg       0.77      0.80      0.78    864134\n",
            "weighted avg       0.93      0.92      0.92    864134\n",
            "\n"
          ],
          "name": "stdout"
        }
      ]
    },
    {
      "cell_type": "code",
      "metadata": {
        "colab": {
          "base_uri": "https://localhost:8080/"
        },
        "id": "-wemsOyRbcIQ",
        "outputId": "8a22ebdb-db5d-4b93-8317-04590e107434"
      },
      "source": [
        "parameters = {\n",
        "        'min_child_weight': [1, 5, 10, 20],\n",
        "        'gamma': [0.1, 0.5, 1, 2.5, 5],\n",
        "        'subsample': [0.5, 0.8, 1.0],\n",
        "        'colsample_bytree': [0.6, 0.8, 1.0],\n",
        "        'max_depth': [4,5,6,8],\n",
        "        'learning_rate': [0.01,0.05,0.1,0.5,1],\n",
        "        'n_estimators':[100,150,200],\n",
        "        }\n",
        "      \n",
        "model_xgb = xgb.XGBClassifier(objective = 'binary:logistic')\n",
        "xg_CV =RandomizedSearchCV(model_xgb, parameters , n_jobs=9, cv=3,verbose=1, n_iter=20) \n",
        "xg_CV.fit(X_bal,y_bal)"
      ],
      "execution_count": null,
      "outputs": [
        {
          "output_type": "stream",
          "text": [
            "Fitting 3 folds for each of 20 candidates, totalling 60 fits\n"
          ],
          "name": "stdout"
        },
        {
          "output_type": "stream",
          "text": [
            "[Parallel(n_jobs=9)]: Using backend LokyBackend with 9 concurrent workers.\n",
            "/usr/local/lib/python3.7/dist-packages/joblib/externals/loky/process_executor.py:691: UserWarning: A worker stopped while some jobs were given to the executor. This can be caused by a too short worker timeout or by a memory leak.\n",
            "  \"timeout or by a memory leak.\", UserWarning\n",
            "[Parallel(n_jobs=9)]: Done  32 tasks      | elapsed: 64.9min\n",
            "[Parallel(n_jobs=9)]: Done  60 out of  60 | elapsed: 109.8min finished\n"
          ],
          "name": "stderr"
        },
        {
          "output_type": "execute_result",
          "data": {
            "text/plain": [
              "RandomizedSearchCV(cv=3, error_score=nan,\n",
              "                   estimator=XGBClassifier(base_score=0.5, booster='gbtree',\n",
              "                                           colsample_bylevel=1,\n",
              "                                           colsample_bynode=1,\n",
              "                                           colsample_bytree=1, gamma=0,\n",
              "                                           learning_rate=0.1, max_delta_step=0,\n",
              "                                           max_depth=3, min_child_weight=1,\n",
              "                                           missing=None, n_estimators=100,\n",
              "                                           n_jobs=1, nthread=None,\n",
              "                                           objective='binary:logistic',\n",
              "                                           random_state=0, reg_alpha=0,\n",
              "                                           reg_lambda=1, sc...\n",
              "                   iid='deprecated', n_iter=20, n_jobs=9,\n",
              "                   param_distributions={'colsample_bytree': [0.6, 0.8, 1.0],\n",
              "                                        'gamma': [0.1, 0.5, 1, 2.5, 5],\n",
              "                                        'learning_rate': [0.01, 0.05, 0.1, 0.5,\n",
              "                                                          1],\n",
              "                                        'max_depth': [4, 5, 6, 8],\n",
              "                                        'min_child_weight': [1, 5, 10, 20],\n",
              "                                        'n_estimators': [100, 150, 200],\n",
              "                                        'subsample': [0.5, 0.8, 1.0]},\n",
              "                   pre_dispatch='2*n_jobs', random_state=None, refit=True,\n",
              "                   return_train_score=False, scoring=None, verbose=1)"
            ]
          },
          "metadata": {
            "tags": []
          },
          "execution_count": 15
        }
      ]
    },
    {
      "cell_type": "code",
      "metadata": {
        "colab": {
          "base_uri": "https://localhost:8080/"
        },
        "id": "47KpgIQQaYE4",
        "outputId": "1da005cc-2429-4757-8c43-8db9ac7c21b8"
      },
      "source": [
        "xg_CV.best_estimator_"
      ],
      "execution_count": null,
      "outputs": [
        {
          "output_type": "execute_result",
          "data": {
            "text/plain": [
              "XGBClassifier(base_score=0.5, booster='gbtree', colsample_bylevel=1,\n",
              "              colsample_bynode=1, colsample_bytree=0.8, gamma=0.1,\n",
              "              learning_rate=0.1, max_delta_step=0, max_depth=8,\n",
              "              min_child_weight=1, missing=None, n_estimators=150, n_jobs=1,\n",
              "              nthread=None, objective='binary:logistic', random_state=0,\n",
              "              reg_alpha=0, reg_lambda=1, scale_pos_weight=1, seed=None,\n",
              "              silent=None, subsample=1.0, verbosity=1)"
            ]
          },
          "metadata": {
            "tags": []
          },
          "execution_count": 16
        }
      ]
    },
    {
      "cell_type": "code",
      "metadata": {
        "colab": {
          "base_uri": "https://localhost:8080/"
        },
        "id": "nI5cX58yadf1",
        "outputId": "3a16a440-6143-4a2d-bc11-c8c8944088e5"
      },
      "source": [
        "xg_best=xg_CV.best_estimator_\n",
        "evaluar_modelo(xg_best,X_bal,X_test,y_bal,y_test)"
      ],
      "execution_count": null,
      "outputs": [
        {
          "output_type": "stream",
          "text": [
            "En train\n",
            "[[1112763   57918]\n",
            " [ 407754  762927]]\n",
            "              precision    recall  f1-score   support\n",
            "\n",
            "           0       0.73      0.95      0.83   1170681\n",
            "           1       0.93      0.65      0.77   1170681\n",
            "\n",
            "    accuracy                           0.80   2341362\n",
            "   macro avg       0.83      0.80      0.80   2341362\n",
            "weighted avg       0.83      0.80      0.80   2341362\n",
            "\n",
            "Ahora en test\n",
            "[[741640  38815]\n",
            " [ 29294  54385]]\n",
            "              precision    recall  f1-score   support\n",
            "\n",
            "           0       0.96      0.95      0.96    780455\n",
            "           1       0.58      0.65      0.61     83679\n",
            "\n",
            "    accuracy                           0.92    864134\n",
            "   macro avg       0.77      0.80      0.79    864134\n",
            "weighted avg       0.93      0.92      0.92    864134\n",
            "\n"
          ],
          "name": "stdout"
        }
      ]
    },
    {
      "cell_type": "code",
      "metadata": {
        "id": "8tTpP3SHvZ5F"
      },
      "source": [
        "# sin balance los modelos dan mas precisión , pero menor recall\n",
        "# con balance detecto mejor a los positivos , y el que mejor lo hace es el XG boost con tunning , el random forest sin tunning lo hace muy parecido\n",
        "# solo varian una poca cantidad de positivos detectados , me quedo con XGboost en balance , por la mayor cantidad de positivos que detecto y por su F1 score"
      ],
      "execution_count": null,
      "outputs": []
    },
    {
      "cell_type": "markdown",
      "metadata": {
        "id": "JMsGksw_vnpX"
      },
      "source": [
        "# **EXPLICABILIDAD DEL MODELO**"
      ]
    },
    {
      "cell_type": "code",
      "metadata": {
        "colab": {
          "base_uri": "https://localhost:8080/"
        },
        "id": "sTiggmYix-fp",
        "outputId": "49fa326a-afce-42e4-b2fb-c0ba106963a7"
      },
      "source": [
        "pip install shap"
      ],
      "execution_count": null,
      "outputs": [
        {
          "output_type": "stream",
          "text": [
            "Collecting shap\n",
            "\u001b[?25l  Downloading https://files.pythonhosted.org/packages/b9/f4/c5b95cddae15be80f8e58b25edceca105aa83c0b8c86a1edad24a6af80d3/shap-0.39.0.tar.gz (356kB)\n",
            "\r\u001b[K     |█                               | 10kB 12.9MB/s eta 0:00:01\r\u001b[K     |█▉                              | 20kB 10.1MB/s eta 0:00:01\r\u001b[K     |██▊                             | 30kB 6.0MB/s eta 0:00:01\r\u001b[K     |███▊                            | 40kB 5.5MB/s eta 0:00:01\r\u001b[K     |████▋                           | 51kB 2.9MB/s eta 0:00:01\r\u001b[K     |█████▌                          | 61kB 3.3MB/s eta 0:00:01\r\u001b[K     |██████▍                         | 71kB 3.5MB/s eta 0:00:01\r\u001b[K     |███████▍                        | 81kB 3.6MB/s eta 0:00:01\r\u001b[K     |████████▎                       | 92kB 3.7MB/s eta 0:00:01\r\u001b[K     |█████████▏                      | 102kB 4.0MB/s eta 0:00:01\r\u001b[K     |██████████▏                     | 112kB 4.0MB/s eta 0:00:01\r\u001b[K     |███████████                     | 122kB 4.0MB/s eta 0:00:01\r\u001b[K     |████████████                    | 133kB 4.0MB/s eta 0:00:01\r\u001b[K     |████████████▉                   | 143kB 4.0MB/s eta 0:00:01\r\u001b[K     |█████████████▉                  | 153kB 4.0MB/s eta 0:00:01\r\u001b[K     |██████████████▊                 | 163kB 4.0MB/s eta 0:00:01\r\u001b[K     |███████████████▋                | 174kB 4.0MB/s eta 0:00:01\r\u001b[K     |████████████████▋               | 184kB 4.0MB/s eta 0:00:01\r\u001b[K     |█████████████████▌              | 194kB 4.0MB/s eta 0:00:01\r\u001b[K     |██████████████████▍             | 204kB 4.0MB/s eta 0:00:01\r\u001b[K     |███████████████████▎            | 215kB 4.0MB/s eta 0:00:01\r\u001b[K     |████████████████████▎           | 225kB 4.0MB/s eta 0:00:01\r\u001b[K     |█████████████████████▏          | 235kB 4.0MB/s eta 0:00:01\r\u001b[K     |██████████████████████          | 245kB 4.0MB/s eta 0:00:01\r\u001b[K     |███████████████████████         | 256kB 4.0MB/s eta 0:00:01\r\u001b[K     |████████████████████████        | 266kB 4.0MB/s eta 0:00:01\r\u001b[K     |████████████████████████▉       | 276kB 4.0MB/s eta 0:00:01\r\u001b[K     |█████████████████████████▊      | 286kB 4.0MB/s eta 0:00:01\r\u001b[K     |██████████████████████████▊     | 296kB 4.0MB/s eta 0:00:01\r\u001b[K     |███████████████████████████▋    | 307kB 4.0MB/s eta 0:00:01\r\u001b[K     |████████████████████████████▌   | 317kB 4.0MB/s eta 0:00:01\r\u001b[K     |█████████████████████████████▍  | 327kB 4.0MB/s eta 0:00:01\r\u001b[K     |██████████████████████████████▍ | 337kB 4.0MB/s eta 0:00:01\r\u001b[K     |███████████████████████████████▎| 348kB 4.0MB/s eta 0:00:01\r\u001b[K     |████████████████████████████████| 358kB 4.0MB/s \n",
            "\u001b[?25hRequirement already satisfied: numpy in /usr/local/lib/python3.7/dist-packages (from shap) (1.19.5)\n",
            "Requirement already satisfied: scipy in /usr/local/lib/python3.7/dist-packages (from shap) (1.4.1)\n",
            "Requirement already satisfied: scikit-learn in /usr/local/lib/python3.7/dist-packages (from shap) (0.22.2.post1)\n",
            "Requirement already satisfied: pandas in /usr/local/lib/python3.7/dist-packages (from shap) (1.1.5)\n",
            "Requirement already satisfied: tqdm>4.25.0 in /usr/local/lib/python3.7/dist-packages (from shap) (4.41.1)\n",
            "Collecting slicer==0.0.7\n",
            "  Downloading https://files.pythonhosted.org/packages/78/c2/b3f55dfdb8af9812fdb9baf70cacf3b9e82e505b2bd4324d588888b81202/slicer-0.0.7-py3-none-any.whl\n",
            "Requirement already satisfied: numba in /usr/local/lib/python3.7/dist-packages (from shap) (0.51.2)\n",
            "Requirement already satisfied: cloudpickle in /usr/local/lib/python3.7/dist-packages (from shap) (1.3.0)\n",
            "Requirement already satisfied: joblib>=0.11 in /usr/local/lib/python3.7/dist-packages (from scikit-learn->shap) (1.0.1)\n",
            "Requirement already satisfied: python-dateutil>=2.7.3 in /usr/local/lib/python3.7/dist-packages (from pandas->shap) (2.8.1)\n",
            "Requirement already satisfied: pytz>=2017.2 in /usr/local/lib/python3.7/dist-packages (from pandas->shap) (2018.9)\n",
            "Requirement already satisfied: setuptools in /usr/local/lib/python3.7/dist-packages (from numba->shap) (57.0.0)\n",
            "Requirement already satisfied: llvmlite<0.35,>=0.34.0.dev0 in /usr/local/lib/python3.7/dist-packages (from numba->shap) (0.34.0)\n",
            "Requirement already satisfied: six>=1.5 in /usr/local/lib/python3.7/dist-packages (from python-dateutil>=2.7.3->pandas->shap) (1.15.0)\n",
            "Building wheels for collected packages: shap\n",
            "  Building wheel for shap (setup.py) ... \u001b[?25l\u001b[?25hdone\n",
            "  Created wheel for shap: filename=shap-0.39.0-cp37-cp37m-linux_x86_64.whl size=491617 sha256=6970d5c9586f27f92276105a6827ba259dbd3615b5277d16a4d8e624622cdf02\n",
            "  Stored in directory: /root/.cache/pip/wheels/15/27/f5/a8ab9da52fd159aae6477b5ede6eaaec69fd130fa0fa59f283\n",
            "Successfully built shap\n",
            "Installing collected packages: slicer, shap\n",
            "Successfully installed shap-0.39.0 slicer-0.0.7\n"
          ],
          "name": "stdout"
        }
      ]
    },
    {
      "cell_type": "code",
      "metadata": {
        "id": "jIqRC5vlvrF_"
      },
      "source": [
        "import shap\n",
        "explainer = shap.TreeExplainer(xg_best)\n",
        "shap_values = explainer.shap_values(X)"
      ],
      "execution_count": null,
      "outputs": []
    },
    {
      "cell_type": "code",
      "metadata": {
        "colab": {
          "base_uri": "https://localhost:8080/",
          "height": 305
        },
        "id": "fuvnSW15vtTy",
        "outputId": "861064f3-4837-4ce2-db89-d4722346b5f0"
      },
      "source": [
        "shap.summary_plot(shap_values, X) "
      ],
      "execution_count": null,
      "outputs": [
        {
          "output_type": "display_data",
          "data": {
            "image/png": "[encoded data removed]",
            "text/plain": [
              "<Figure size 576x309.6 with 2 Axes>"
            ]
          },
          "metadata": {
            "tags": [],
            "needs_background": "light"
          }
        }
      ]
    },
    {
      "cell_type": "code",
      "metadata": {
        "id": "0UlxljoGCl1I"
      },
      "source": [
        "# notamos que los valores 1 de síntomas afectan a la predicción en gran medida, es decir mientras más sintomas tengan las personas es más probable que el modelo determine que tienen covid\n",
        "# de los síntomas los que tiene más impacto en el modelo son dolor de garganta, problemas para respirar , dolor de cabeza y fiebre\n",
        "# un valor bajo de test_indication, es decir, 0 o 1 , tiene impacto en la predicción de las predicciones, haciendo más probable que tengan covid , y el valor alto 2 , tambien afecta en gran medida\n",
        "# al modelo haciendo que disminuya la probabilidad de que tenga covid\n",
        "# Por último respecto a la edad , vemos que el valor de 1 aumenta la probabilidad de tener covid pero no en todos los casos, se observa que en algunos tener mas de 60 años también disminuye la probabilidad\n",
        "# y para el valor 0 , es decir , menor a 60 el modelo no lo considera como no tan impactante en la predicción de varias muestras"
      ],
      "execution_count": null,
      "outputs": []
    },
    {
      "cell_type": "code",
      "metadata": {
        "colab": {
          "base_uri": "https://localhost:8080/",
          "height": 273
        },
        "id": "OtmJDckRlTrv",
        "outputId": "71aa8e66-ec62-438f-c490-5dc600e330ec"
      },
      "source": [
        "shap.force_plot(explainer.expected_value, shap_values[15,:], X.iloc[15,:],matplotlib=True)"
      ],
      "execution_count": null,
      "outputs": [
        {
          "output_type": "display_data",
          "data": {
            "image/png": "[encoded data removed]",
            "text/plain": [
              "<Figure size 1440x216 with 1 Axes>"
            ]
          },
          "metadata": {
            "tags": [],
            "needs_background": "light"
          }
        }
      ]
    },
    {
      "cell_type": "code",
      "metadata": {
        "colab": {
          "base_uri": "https://localhost:8080/",
          "height": 273
        },
        "id": "TmVXzuaXn4TP",
        "outputId": "1f436374-37c1-4788-929c-f8ab6ffe49fe"
      },
      "source": [
        "shap.force_plot(explainer.expected_value, shap_values[20,:], X.iloc[20,:],matplotlib=True)\n"
      ],
      "execution_count": null,
      "outputs": [
        {
          "output_type": "display_data",
          "data": {
            "image/png": "[encoded data removed]",
            "text/plain": [
              "<Figure size 1440x216 with 1 Axes>"
            ]
          },
          "metadata": {
            "tags": [],
            "needs_background": "light"
          }
        }
      ]
    },
    {
      "cell_type": "code",
      "metadata": {
        "colab": {
          "base_uri": "https://localhost:8080/",
          "height": 273
        },
        "id": "M_9K4Qb9G_uB",
        "outputId": "aa3dd392-f1b3-4402-f0f7-dc27f10c5b12"
      },
      "source": [
        "shap.force_plot(explainer.expected_value, shap_values[2160328,:], X.iloc[2160328,:],matplotlib=True)"
      ],
      "execution_count": null,
      "outputs": [
        {
          "output_type": "display_data",
          "data": {
            "image/png": "[encoded data removed]",
            "text/plain": [
              "<Figure size 1440x216 with 1 Axes>"
            ]
          },
          "metadata": {
            "tags": [],
            "needs_background": "light"
          }
        }
      ]
    },
    {
      "cell_type": "code",
      "metadata": {
        "colab": {
          "base_uri": "https://localhost:8080/",
          "height": 273
        },
        "id": "bxWkHVqKHT5e",
        "outputId": "5940b2b5-b0a2-4ba7-d738-548116e4a54b"
      },
      "source": [
        "shap.force_plot(explainer.expected_value, shap_values[136,:], X.iloc[136,:],matplotlib=True)"
      ],
      "execution_count": null,
      "outputs": [
        {
          "output_type": "display_data",
          "data": {
            "image/png": "[encoded data removed]",
            "text/plain": [
              "<Figure size 1440x216 with 1 Axes>"
            ]
          },
          "metadata": {
            "tags": [],
            "needs_background": "light"
          }
        }
      ]
    },
    {
      "cell_type": "code",
      "metadata": {
        "colab": {
          "base_uri": "https://localhost:8080/",
          "height": 273
        },
        "id": "TTSF_3CcJF3h",
        "outputId": "133b2dac-2595-47ab-e3cb-b23baa74cfab"
      },
      "source": [
        "shap.force_plot(explainer.expected_value, shap_values[352,:], X.iloc[352,:],matplotlib=True)"
      ],
      "execution_count": null,
      "outputs": [
        {
          "output_type": "display_data",
          "data": {
            "image/png": "[encoded data removed]",
            "text/plain": [
              "<Figure size 1440x216 with 1 Axes>"
            ]
          },
          "metadata": {
            "tags": [],
            "needs_background": "light"
          }
        }
      ]
    },
    {
      "cell_type": "code",
      "metadata": {
        "colab": {
          "base_uri": "https://localhost:8080/",
          "height": 273
        },
        "id": "iShnaJUHT3Cj",
        "outputId": "937c9343-ee8b-49a0-b04d-1b00cb2b4fd2"
      },
      "source": [
        "shap.force_plot(explainer.expected_value, shap_values[305,:], X.iloc[305,:],matplotlib=True) # esta persona era asintomatica"
      ],
      "execution_count": null,
      "outputs": [
        {
          "output_type": "display_data",
          "data": {
            "image/png": "[encoded data removed]",
            "text/plain": [
              "<Figure size 1440x216 with 1 Axes>"
            ]
          },
          "metadata": {
            "tags": [],
            "needs_background": "light"
          }
        }
      ]
    },
    {
      "cell_type": "code",
      "metadata": {
        "colab": {
          "base_uri": "https://localhost:8080/",
          "height": 359
        },
        "id": "4y7ADkUjT48i",
        "outputId": "586b843c-f2aa-43cf-f82b-c71155d2ce9c"
      },
      "source": [
        "c_pos = covid_clean[covid_clean['corona_result'] == 1]\n",
        "c_pos.head(10)"
      ],
      "execution_count": null,
      "outputs": [
        {
          "output_type": "execute_result",
          "data": {
            "text/html": [
              "<div>\n",
              "<style scoped>\n",
              "    .dataframe tbody tr th:only-of-type {\n",
              "        vertical-align: middle;\n",
              "    }\n",
              "\n",
              "    .dataframe tbody tr th {\n",
              "        vertical-align: top;\n",
              "    }\n",
              "\n",
              "    .dataframe thead th {\n",
              "        text-align: right;\n",
              "    }\n",
              "</style>\n",
              "<table border=\"1\" class=\"dataframe\">\n",
              "  <thead>\n",
              "    <tr style=\"text-align: right;\">\n",
              "      <th></th>\n",
              "      <th>cough</th>\n",
              "      <th>fever</th>\n",
              "      <th>sore_throat</th>\n",
              "      <th>shortness_of_breath</th>\n",
              "      <th>head_ache</th>\n",
              "      <th>corona_result</th>\n",
              "      <th>age_60_and_above</th>\n",
              "      <th>test_indication</th>\n",
              "    </tr>\n",
              "  </thead>\n",
              "  <tbody>\n",
              "    <tr>\n",
              "      <th>136</th>\n",
              "      <td>0</td>\n",
              "      <td>0</td>\n",
              "      <td>0</td>\n",
              "      <td>0</td>\n",
              "      <td>0</td>\n",
              "      <td>1</td>\n",
              "      <td>1</td>\n",
              "      <td>2</td>\n",
              "    </tr>\n",
              "    <tr>\n",
              "      <th>149</th>\n",
              "      <td>0</td>\n",
              "      <td>0</td>\n",
              "      <td>0</td>\n",
              "      <td>0</td>\n",
              "      <td>0</td>\n",
              "      <td>1</td>\n",
              "      <td>0</td>\n",
              "      <td>2</td>\n",
              "    </tr>\n",
              "    <tr>\n",
              "      <th>181</th>\n",
              "      <td>0</td>\n",
              "      <td>0</td>\n",
              "      <td>0</td>\n",
              "      <td>0</td>\n",
              "      <td>0</td>\n",
              "      <td>1</td>\n",
              "      <td>0</td>\n",
              "      <td>2</td>\n",
              "    </tr>\n",
              "    <tr>\n",
              "      <th>182</th>\n",
              "      <td>0</td>\n",
              "      <td>0</td>\n",
              "      <td>0</td>\n",
              "      <td>0</td>\n",
              "      <td>0</td>\n",
              "      <td>1</td>\n",
              "      <td>0</td>\n",
              "      <td>2</td>\n",
              "    </tr>\n",
              "    <tr>\n",
              "      <th>195</th>\n",
              "      <td>1</td>\n",
              "      <td>1</td>\n",
              "      <td>0</td>\n",
              "      <td>0</td>\n",
              "      <td>0</td>\n",
              "      <td>1</td>\n",
              "      <td>1</td>\n",
              "      <td>2</td>\n",
              "    </tr>\n",
              "    <tr>\n",
              "      <th>305</th>\n",
              "      <td>0</td>\n",
              "      <td>0</td>\n",
              "      <td>0</td>\n",
              "      <td>0</td>\n",
              "      <td>0</td>\n",
              "      <td>1</td>\n",
              "      <td>0</td>\n",
              "      <td>2</td>\n",
              "    </tr>\n",
              "    <tr>\n",
              "      <th>352</th>\n",
              "      <td>0</td>\n",
              "      <td>0</td>\n",
              "      <td>0</td>\n",
              "      <td>0</td>\n",
              "      <td>0</td>\n",
              "      <td>1</td>\n",
              "      <td>0</td>\n",
              "      <td>1</td>\n",
              "    </tr>\n",
              "    <tr>\n",
              "      <th>372</th>\n",
              "      <td>0</td>\n",
              "      <td>0</td>\n",
              "      <td>0</td>\n",
              "      <td>0</td>\n",
              "      <td>0</td>\n",
              "      <td>1</td>\n",
              "      <td>0</td>\n",
              "      <td>1</td>\n",
              "    </tr>\n",
              "    <tr>\n",
              "      <th>373</th>\n",
              "      <td>1</td>\n",
              "      <td>0</td>\n",
              "      <td>0</td>\n",
              "      <td>0</td>\n",
              "      <td>0</td>\n",
              "      <td>1</td>\n",
              "      <td>0</td>\n",
              "      <td>2</td>\n",
              "    </tr>\n",
              "    <tr>\n",
              "      <th>406</th>\n",
              "      <td>0</td>\n",
              "      <td>0</td>\n",
              "      <td>0</td>\n",
              "      <td>0</td>\n",
              "      <td>0</td>\n",
              "      <td>1</td>\n",
              "      <td>0</td>\n",
              "      <td>2</td>\n",
              "    </tr>\n",
              "  </tbody>\n",
              "</table>\n",
              "</div>"
            ],
            "text/plain": [
              "     cough  fever  ...  age_60_and_above  test_indication\n",
              "136      0      0  ...                 1                2\n",
              "149      0      0  ...                 0                2\n",
              "181      0      0  ...                 0                2\n",
              "182      0      0  ...                 0                2\n",
              "195      1      1  ...                 1                2\n",
              "305      0      0  ...                 0                2\n",
              "352      0      0  ...                 0                1\n",
              "372      0      0  ...                 0                1\n",
              "373      1      0  ...                 0                2\n",
              "406      0      0  ...                 0                2\n",
              "\n",
              "[10 rows x 8 columns]"
            ]
          },
          "metadata": {
            "tags": []
          },
          "execution_count": 82
        }
      ]
    }
  ]
}